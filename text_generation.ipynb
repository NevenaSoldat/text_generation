{
 "cells": [
  {
   "cell_type": "markdown",
   "metadata": {},
   "source": [
    "# Text generation\n",
    "\n",
    "The goal of this project is to demonstrate text generation using LSTM neural networks.\n",
    "Our database contains numerous movie plots taken from Wikipedia, so we will generate something similiar."
   ]
  },
  {
   "cell_type": "code",
   "execution_count": 3,
   "metadata": {},
   "outputs": [],
   "source": [
    "import tensorflow as tf\n",
    "import pandas as pd\n",
    "import numpy as np\n",
    "from keras.preprocessing.text import Tokenizer\n",
    "from sklearn.feature_extraction.text import CountVectorizer\n",
    "from keras.utils import to_categorical\n",
    "from keras.preprocessing.sequence import pad_sequences\n",
    "from keras.layers import LSTM, Dense, Dropout, Embedding\n",
    "from keras.models import Sequential\n",
    "import random \n",
    "import matplotlib.pyplot as plt\n",
    "import warnings\n",
    "warnings.filterwarnings(\"ignore\")\n",
    "warnings.simplefilter(action='ignore', category=FutureWarning)\n"
   ]
  },
  {
   "cell_type": "code",
   "execution_count": 15,
   "metadata": {},
   "outputs": [
    {
     "name": "stdout",
     "output_type": "stream",
     "text": [
      "Max movie plot len:  36773\n",
      "Min movie plot len:  15\n"
     ]
    },
    {
     "data": {
      "text/plain": [
       "'United States Air Force Colonel William Hughes (Paul Kelly) asks Major Paul Peterson (John Payne), who has been called back to active service, to join a team at the Air Research and Development Command conducting tests on a downward ejection seat for bombardiers in the new Boeing B-47 Stratojet bomber. The first tests used articulated dummies, but human test subjects are needed. Besides Colonel Hughes, German scientist Dr. Franz Gruener (Gregory Gaye), also is in charge of the test program, working directly with the test subjects. Captain Jack Nolan (Richard Crane) is also assigned to the project.\\r\\nThe first volunteer, Captain Mike Cavallero (Eddie Firestone), suffers a broken neck when his parachute opens too early. He survives the test but is hospitalized. The next subject is Lieutenant Edward Simmons, to be followed by Paul. When Mike is suddenly rushed to hospital with an appendicitis attack, Paul moves up. Worried because he has a wife and son, Paul is reluctant to go, but then finds out that Captain Nolan has been killed in a B-47 crash, and as the bombardier, he might not have been able to escape the aircraft.\\r\\nHis wife (Karen Steele) begs his commanding officer to release Paul from his commitment. When Paul shows up to take the test, he finds Colonel Hughes suiting up. Imploring him to reconsider, Paul makes the case for doing the test to prove that a bailout is possible from the high-speed jet bomber. Flying with Dr. Gruener, Paul ejects, but when the ground observers ask him to indicate he is well by spread-eagling, he does not respond. On board the rescue launch, they pick up Paul and find he is fine; he was simply concentrating so hard that he forgot to spread-eagle. After he is cleared by the medics, Paul is greeted by Carol and his son Kit (Richard Eyer) and, with their blessing, decides to continue with the project.'"
      ]
     },
     "execution_count": 15,
     "metadata": {},
     "output_type": "execute_result"
    }
   ],
   "source": [
    "data = pd.read_csv(\"movie_plots.csv\")\n",
    "\n",
    "movie_plots = data['Plot']\n",
    "print(\"Max movie plot len: \", movie_plots.map(len).max())\n",
    "print(\"Min movie plot len: \", movie_plots.map(len).min())\n",
    "\n",
    "all_plots = list(movie_plots.values)\n",
    "# setting a seed so we get the same result every time\n",
    "random.seed(42)\n",
    "sample = random.sample(all_plots, 100)\n",
    "sample[6]"
   ]
  },
  {
   "cell_type": "markdown",
   "metadata": {},
   "source": [
    "## Tokenize words\n",
    "\n",
    "Tokenization is turning unique words into unique integers. This step is necessary for preparing data for embedding layer."
   ]
  },
  {
   "cell_type": "code",
   "execution_count": 16,
   "metadata": {},
   "outputs": [
    {
     "name": "stdout",
     "output_type": "stream",
     "text": [
      "[[   9 3264 3265  815  472    7  104  182  815   75   25 1188    2  969\n",
      "   348 2079    2  530 3266   60  429  815    3 2080  104  116 2081 2082\n",
      "     5 2083 1513    3    4 2084  599  429    3  116 1189  182 3267   44\n",
      "   699    1  473 1190   16    1 1514    5   10  531   10 3268  816    2\n",
      "   182  238   10    3   10 1515  532 3269   53  815 3270 3271   14 1516\n",
      "   116  128   26    1  430 2085   11  182    3  533   10   30   32    1\n",
      "  1513   42    8 3272  211  815   52 2086  429  317  248    2 3273    1\n",
      "    52  970   19    1  348 2080  104  116    3  104    9  600  971  474\n",
      "   117   63   55  161   59    2  212 3274    9  318    2 2087    1 1517\n",
      "  2088  382 2089   79  183    2  601   59 3275  182    2  532    9  318\n",
      "     2 3276    1 3277 2090 1518 1517 2088    9    1  969  348   61  532\n",
      "    63  972    2  162    4 1519   20   38   43 1191    2  142   62    3\n",
      "    63   55  383    2  817    1   52  475   15 1192    7 2091   53 2092\n",
      "    30    7   88  700   42    7 3278  117  971   79  319    3  163   12\n",
      "     8   79  249   12]\n",
      " [1536  388 1537 2130    3  613  286 3348 3349   19   28 3350    9 3351\n",
      "   436   12  546    2    4 3352   22  240  993    4  197 3353   11  165\n",
      "  3354  484 3355 2131    4 2132 2133 3356  101   50  484 1215    2  353\n",
      "   287  547    7   80  107    8   23 2134    1  266 3357  101    9   27\n",
      "  3358  548  834    9 3359   19    1  197    1  614  354   12    8    6\n",
      "  2135    2  138   27  174  130 3360  437 2136 2137   27 3361 1538   15\n",
      "    85    1  614  388    3  613  993    4  835   47  709   19    4 3362\n",
      "  1539 3363  710  613    6 1216    3    1  614    3  388   83   10    2\n",
      "   836   78 2138  254    1 3364    5 2139 3365   47  437 3366  110    1\n",
      "   353  484 3367 3368 2140 3369    1 3370  615 3371  549   10    2 3372\n",
      "  3373   39  388  837   10    2  838  484  982  437    5 2141    1 2139\n",
      "   110    1  353    2    1 3374 1540    9    1  166    5 3375    5 3376\n",
      "  2132  616    8   61  982  437    5  994    7   80 1217   39    8   38\n",
      "     9  548  711   19    9    1  389  484  390  836  438 1541    3  437\n",
      "   354   12  484   23]]\n"
     ]
    }
   ],
   "source": [
    "max_words = 10000\n",
    "tokenizer = Tokenizer(num_words = max_words)\n",
    "tokenizer.fit_on_texts(sample)\n",
    "\n",
    "sequences = tokenizer.texts_to_sequences(sample)\n",
    "sequences_len = 200\n",
    "sequences = pad_sequences(sequences, maxlen = sequences_len, truncating = 'post')\n",
    "sequences.shape\n",
    "print(sequences[:2])"
   ]
  },
  {
   "cell_type": "code",
   "execution_count": 17,
   "metadata": {},
   "outputs": [
    {
     "name": "stdout",
     "output_type": "stream",
     "text": [
      "Corpus size:  20000\n",
      "Vocabulary size:  7003\n"
     ]
    }
   ],
   "source": [
    "# making a single list of tokens so we can apply sliding windows\n",
    "\n",
    "text = [item for sublist in sequences for item in sublist]\n",
    "print(\"Corpus size: \", len(text))\n",
    "vocab_size = len(tokenizer.word_index)\n",
    "print(\"Vocabulary size: \", vocab_size+1)\n"
   ]
  },
  {
   "cell_type": "code",
   "execution_count": 18,
   "metadata": {},
   "outputs": [],
   "source": [
    "# reverse dictionary so we can decode tokenized sequences back to words\n",
    "reverse_word_map = dict(map(reversed, tokenizer.word_index.items()))\n"
   ]
  },
  {
   "cell_type": "markdown",
   "metadata": {},
   "source": [
    "### Splitting the data for input and output values\n",
    "\n",
    "Input sequence has the size of 20 words, and output is the next word"
   ]
  },
  {
   "cell_type": "code",
   "execution_count": 19,
   "metadata": {},
   "outputs": [
    {
     "name": "stdout",
     "output_type": "stream",
     "text": [
      "19980\n"
     ]
    }
   ],
   "source": [
    "seq_len = 20\n",
    "\n",
    "dataX = []\n",
    "dataY = []\n",
    "\n",
    "for i in range(len(text)-seq_len):\n",
    "    seq_in = text[i:i+seq_len]\n",
    "    seq_out = text[i+seq_len]\n",
    "    dataX.append(seq_in)\n",
    "    dataY.append(seq_out)\n",
    "    \n",
    "size = len(dataX)\n",
    "print(size)"
   ]
  },
  {
   "cell_type": "code",
   "execution_count": 20,
   "metadata": {},
   "outputs": [
    {
     "name": "stdout",
     "output_type": "stream",
     "text": [
      "[   9 3264 3265  815  472    7  104  182  815   75   25 1188    2  969\n",
      "  348 2079    2  530 3266   60]\n",
      "429\n",
      "[3264 3265  815  472    7  104  182  815   75   25 1188    2  969  348\n",
      " 2079    2  530 3266   60  429]\n",
      "815\n",
      "in 1931 lon rambeau sends his daughter elizabeth rambeau away from london to napa valley california to visit lon's father\n",
      "philippe\n",
      "1931 lon rambeau sends his daughter elizabeth rambeau away from london to napa valley california to visit lon's father philippe\n",
      "rambeau\n",
      "lon rambeau sends his daughter elizabeth rambeau away from london to napa valley california to visit lon's father philippe rambeau\n",
      "and\n"
     ]
    }
   ],
   "source": [
    "dataX = np.asarray(dataX)\n",
    "dataY = np.asarray(dataY)\n",
    "\n",
    "print(dataX[0])\n",
    "print(dataY[0])\n",
    "print(dataX[1])\n",
    "print(dataY[1])\n",
    "\n",
    "print(\" \".join(map(lambda x : reverse_word_map[x], dataX[0])))\n",
    "print(reverse_word_map[dataY[0]])\n",
    "\n",
    "print(\" \".join(map(lambda x : reverse_word_map[x], dataX[1])))\n",
    "print(reverse_word_map[dataY[1]])\n",
    "\n",
    "print(\" \".join(map(lambda x : reverse_word_map[x], dataX[2])))\n",
    "print(reverse_word_map[dataY[2]])\n"
   ]
  },
  {
   "cell_type": "code",
   "execution_count": 21,
   "metadata": {},
   "outputs": [
    {
     "data": {
      "text/plain": [
       "(19980, 7003)"
      ]
     },
     "execution_count": 21,
     "metadata": {},
     "output_type": "execute_result"
    }
   ],
   "source": [
    "from keras.utils import np_utils\n",
    "\n",
    "trainX = dataX\n",
    "trainy = np_utils.to_categorical(dataY)\n",
    "trainy.shape"
   ]
  },
  {
   "cell_type": "markdown",
   "metadata": {},
   "source": [
    "### Creating a model"
   ]
  },
  {
   "cell_type": "code",
   "execution_count": 24,
   "metadata": {},
   "outputs": [
    {
     "name": "stdout",
     "output_type": "stream",
     "text": [
      "Model: \"sequential_2\"\n",
      "_________________________________________________________________\n",
      "Layer (type)                 Output Shape              Param #   \n",
      "=================================================================\n",
      "embedding_2 (Embedding)      (None, 20, 32)            224096    \n",
      "_________________________________________________________________\n",
      "lstm_3 (LSTM)                (None, 20, 100)           53200     \n",
      "_________________________________________________________________\n",
      "dropout_2 (Dropout)          (None, 20, 100)           0         \n",
      "_________________________________________________________________\n",
      "lstm_4 (LSTM)                (None, 200)               240800    \n",
      "_________________________________________________________________\n",
      "dense_2 (Dense)              (None, 7003)              1407603   \n",
      "=================================================================\n",
      "Total params: 1,925,699\n",
      "Trainable params: 1,925,699\n",
      "Non-trainable params: 0\n",
      "_________________________________________________________________\n"
     ]
    }
   ],
   "source": [
    "import keras\n",
    "from keras.layers import LSTM, Dense, Embedding, Dropout\n",
    "from keras.models import Sequential\n",
    "from keras.callbacks import ModelCheckpoint\n",
    "\n",
    "model = Sequential()\n",
    "\n",
    "model.add(Embedding(vocab_size+1, 32, input_length = trainX.shape[1]))\n",
    "model.add(LSTM(100,  return_sequences=True))\n",
    "model.add(Dropout(0.1))\n",
    "model.add(LSTM(200))\n",
    "model.add(Dense(trainy.shape[1], activation = 'softmax'))\n",
    "model.summary()"
   ]
  },
  {
   "cell_type": "code",
   "execution_count": 25,
   "metadata": {},
   "outputs": [
    {
     "name": "stdout",
     "output_type": "stream",
     "text": [
      "WARNING:tensorflow:From /home/nemanja/.local/lib/python3.6/site-packages/keras/backend/tensorflow_backend.py:422: The name tf.global_variables is deprecated. Please use tf.compat.v1.global_variables instead.\n",
      "\n",
      "Train on 15984 samples, validate on 3996 samples\n",
      "Epoch 1/20\n",
      "15984/15984 [==============================] - 55s 3ms/step - loss: 6.7313 - acc: 0.2048 - val_loss: 6.4812 - val_acc: 0.2060\n",
      "\n",
      "Epoch 00001: loss improved from inf to 6.73129, saving model to ./weights.hdf5\n",
      "Epoch 2/20\n",
      "15984/15984 [==============================] - 59s 4ms/step - loss: 5.9142 - acc: 0.2065 - val_loss: 6.2300 - val_acc: 0.2060\n",
      "\n",
      "Epoch 00002: loss improved from 6.73129 to 5.91423, saving model to ./weights.hdf5\n",
      "Epoch 3/20\n",
      "15984/15984 [==============================] - 70s 4ms/step - loss: 5.5099 - acc: 0.2225 - val_loss: 6.2400 - val_acc: 0.2417\n",
      "\n",
      "Epoch 00003: loss improved from 5.91423 to 5.50988, saving model to ./weights.hdf5\n",
      "Epoch 4/20\n",
      "15984/15984 [==============================] - 74s 5ms/step - loss: 5.3603 - acc: 0.2406 - val_loss: 6.2069 - val_acc: 0.2490\n",
      "\n",
      "Epoch 00004: loss improved from 5.50988 to 5.36026, saving model to ./weights.hdf5\n",
      "Epoch 5/20\n",
      "15984/15984 [==============================] - 77s 5ms/step - loss: 5.2610 - acc: 0.2460 - val_loss: 6.4534 - val_acc: 0.2540\n",
      "\n",
      "Epoch 00005: loss improved from 5.36026 to 5.26100, saving model to ./weights.hdf5\n",
      "Epoch 6/20\n",
      "15984/15984 [==============================] - 75s 5ms/step - loss: 5.1830 - acc: 0.2523 - val_loss: 6.5119 - val_acc: 0.2553\n",
      "\n",
      "Epoch 00006: loss improved from 5.26100 to 5.18305, saving model to ./weights.hdf5\n",
      "Epoch 7/20\n",
      "15984/15984 [==============================] - 73s 5ms/step - loss: 5.1136 - acc: 0.2562 - val_loss: 6.5561 - val_acc: 0.2620\n",
      "\n",
      "Epoch 00007: loss improved from 5.18305 to 5.11358, saving model to ./weights.hdf5\n",
      "Epoch 8/20\n",
      "15984/15984 [==============================] - 79s 5ms/step - loss: 5.0516 - acc: 0.2588 - val_loss: 6.6868 - val_acc: 0.2548\n",
      "\n",
      "Epoch 00008: loss improved from 5.11358 to 5.05162, saving model to ./weights.hdf5\n",
      "Epoch 9/20\n",
      "15984/15984 [==============================] - 99s 6ms/step - loss: 4.9887 - acc: 0.2604 - val_loss: 6.7805 - val_acc: 0.2570\n",
      "\n",
      "Epoch 00009: loss improved from 5.05162 to 4.98871, saving model to ./weights.hdf5\n",
      "Epoch 10/20\n",
      "15984/15984 [==============================] - 91s 6ms/step - loss: 4.9274 - acc: 0.2628 - val_loss: 6.8225 - val_acc: 0.2508\n",
      "\n",
      "Epoch 00010: loss improved from 4.98871 to 4.92737, saving model to ./weights.hdf5\n",
      "Epoch 11/20\n",
      "15984/15984 [==============================] - 94s 6ms/step - loss: 4.8683 - acc: 0.2659 - val_loss: 6.8933 - val_acc: 0.2575\n",
      "\n",
      "Epoch 00011: loss improved from 4.92737 to 4.86830, saving model to ./weights.hdf5\n",
      "Epoch 12/20\n",
      "15984/15984 [==============================] - 106s 7ms/step - loss: 4.8091 - acc: 0.2675 - val_loss: 6.8790 - val_acc: 0.2518\n",
      "\n",
      "Epoch 00012: loss improved from 4.86830 to 4.80908, saving model to ./weights.hdf5\n",
      "Epoch 13/20\n",
      "15984/15984 [==============================] - 101s 6ms/step - loss: 4.7492 - acc: 0.2696 - val_loss: 6.9050 - val_acc: 0.2563\n",
      "\n",
      "Epoch 00013: loss improved from 4.80908 to 4.74922, saving model to ./weights.hdf5\n",
      "Epoch 14/20\n",
      "15984/15984 [==============================] - 99s 6ms/step - loss: 4.6909 - acc: 0.2691 - val_loss: 6.9567 - val_acc: 0.2588\n",
      "\n",
      "Epoch 00014: loss improved from 4.74922 to 4.69091, saving model to ./weights.hdf5\n",
      "Epoch 15/20\n",
      "15984/15984 [==============================] - 103s 6ms/step - loss: 4.6328 - acc: 0.2718 - val_loss: 7.0110 - val_acc: 0.2510\n",
      "\n",
      "Epoch 00015: loss improved from 4.69091 to 4.63281, saving model to ./weights.hdf5\n",
      "Epoch 16/20\n",
      "15984/15984 [==============================] - 113s 7ms/step - loss: 4.5806 - acc: 0.2718 - val_loss: 7.0345 - val_acc: 0.2535\n",
      "\n",
      "Epoch 00016: loss improved from 4.63281 to 4.58055, saving model to ./weights.hdf5\n",
      "Epoch 17/20\n",
      "15984/15984 [==============================] - 105s 7ms/step - loss: 4.5237 - acc: 0.2747 - val_loss: 7.1215 - val_acc: 0.2523\n",
      "\n",
      "Epoch 00017: loss improved from 4.58055 to 4.52367, saving model to ./weights.hdf5\n",
      "Epoch 18/20\n",
      "15984/15984 [==============================] - 112s 7ms/step - loss: 4.4728 - acc: 0.2761 - val_loss: 7.1444 - val_acc: 0.2525\n",
      "\n",
      "Epoch 00018: loss improved from 4.52367 to 4.47279, saving model to ./weights.hdf5\n",
      "Epoch 19/20\n",
      "15984/15984 [==============================] - 104s 7ms/step - loss: 4.4219 - acc: 0.2765 - val_loss: 7.1565 - val_acc: 0.2543\n",
      "\n",
      "Epoch 00019: loss improved from 4.47279 to 4.42192, saving model to ./weights.hdf5\n",
      "Epoch 20/20\n",
      "15984/15984 [==============================] - 117s 7ms/step - loss: 4.3731 - acc: 0.2777 - val_loss: 7.2218 - val_acc: 0.2465\n",
      "\n",
      "Epoch 00020: loss improved from 4.42192 to 4.37312, saving model to ./weights.hdf5\n"
     ]
    }
   ],
   "source": [
    "model.compile(optimizer = 'adam', loss = 'categorical_crossentropy', metrics = ['acc'])\n",
    "\n",
    "filepath = \"./weights.hdf5\"\n",
    "checkpoint = ModelCheckpoint(filepath, monitor = 'loss', verbose = 1, save_best_only = True, mode = 'min')\n",
    "callbacks = [checkpoint]\n",
    "\n",
    "hist = model.fit(trainX, trainy, epochs = 20, batch_size = 128, verbose = 1, callbacks = callbacks, validation_split=0.2)"
   ]
  },
  {
   "cell_type": "code",
   "execution_count": 66,
   "metadata": {},
   "outputs": [
    {
     "data": {
      "image/png": "[encoded data removed]",
      "text/plain": [
       "<Figure size 432x288 with 1 Axes>"
      ]
     },
     "metadata": {
      "needs_background": "light"
     },
     "output_type": "display_data"
    }
   ],
   "source": [
    "plt.plot(hist.history['loss'])\n",
    "plt.plot(hist.history['val_loss'])\n",
    "plt.title('Model train loss')\n",
    "plt.ylabel('Loss')\n",
    "plt.xlabel('Epoch')\n",
    "plt.legend(['Train', 'Validation'], loc='upper right')\n",
    "plt.show()"
   ]
  },
  {
   "cell_type": "code",
   "execution_count": null,
   "metadata": {},
   "outputs": [],
   "source": [
    "results = model.evaluate(trainX, trainy, batch_size = 128)\n",
    "print('test loss, test acc:', results)"
   ]
  },
  {
   "cell_type": "code",
   "execution_count": 67,
   "metadata": {},
   "outputs": [],
   "source": [
    "# Loading weights from a checkpoint\n",
    "\n",
    "filename = \"weights.hdf5\"\n",
    "model.load_weights(filename)\n",
    "model.compile(loss = 'categorical_crossentropy', optimizer = 'adam')\n"
   ]
  },
  {
   "cell_type": "code",
   "execution_count": 68,
   "metadata": {},
   "outputs": [],
   "source": [
    "def generate_words(seed_text, num_words, model, max_seq_len = 20):\n",
    "    for i in range(num_words):\n",
    "        token_list = tokenizer.texts_to_sequences([seed_text])[0]\n",
    "        token_list = pad_sequences([token_list], maxlen = max_seq_len, padding = 'pre')\n",
    "        \n",
    "        predicted = model.predict_classes(token_list, verbose = 0)\n",
    "        output_word = ''\n",
    "        for word, index in tokenizer.word_index.items():\n",
    "            if index == predicted:\n",
    "                output_word = word\n",
    "                break\n",
    "                \n",
    "        seed_text = seed_text + \" \" + output_word\n",
    "        \n",
    "    return seed_text.title()"
   ]
  },
  {
   "cell_type": "code",
   "execution_count": 69,
   "metadata": {},
   "outputs": [
    {
     "name": "stdout",
     "output_type": "stream",
     "text": [
      "Man In Black The Local Village And Old\n"
     ]
    }
   ],
   "source": [
    "print(generate_words(\"man in black\", 5, model))"
   ]
  },
  {
   "cell_type": "code",
   "execution_count": null,
   "metadata": {},
   "outputs": [],
   "source": []
  }
 ],
 "metadata": {
  "kernelspec": {
   "display_name": "Python 3",
   "language": "python",
   "name": "python3"
  },
  "language_info": {
   "codemirror_mode": {
    "name": "ipython",
    "version": 3
   },
   "file_extension": ".py",
   "mimetype": "text/x-python",
   "name": "python",
   "nbconvert_exporter": "python",
   "pygments_lexer": "ipython3",
   "version": "3.6.9"
  }
 },
 "nbformat": 4,
 "nbformat_minor": 4
}
