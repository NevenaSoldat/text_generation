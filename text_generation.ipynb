{
 "cells": [
  {
   "cell_type": "markdown",
   "metadata": {},
   "source": [
    "# Text generation\n",
    "\n",
    "The goal of this project is to demonstrate text generation using LSTM neural networks.\n",
    "Our database contains numerous movie plots taken from Wikipedia, so we will generate something similiar."
   ]
  },
  {
   "cell_type": "code",
   "execution_count": 2,
   "metadata": {},
   "outputs": [],
   "source": [
    "import tensorflow as tf\n",
    "import pandas as pd\n",
    "import numpy as np\n",
    "from keras.preprocessing.text import Tokenizer\n",
    "from sklearn.feature_extraction.text import CountVectorizer\n",
    "from keras.utils import to_categorical\n",
    "from keras.preprocessing.sequence import pad_sequences\n",
    "from keras.layers import LSTM, Dense, Dropout, Embedding\n",
    "from keras.models import Sequential\n",
    "import random \n",
    "import matplotlib.pyplot as plt\n",
    "import warnings\n",
    "import os, multiprocessing\n",
    "\n",
    "warnings.filterwarnings(\"ignore\")\n",
    "warnings.simplefilter(action='ignore', category=FutureWarning)\n"
   ]
  },
  {
   "cell_type": "code",
   "execution_count": 3,
   "metadata": {},
   "outputs": [
    {
     "name": "stdout",
     "output_type": "stream",
     "text": [
      "Computer characteristics: \n",
      "RAM: 7.653069 GB\n",
      "CORES: 4\n"
     ]
    }
   ],
   "source": [
    "# Computer characteristics\n",
    "\n",
    "mem_bytes = os.sysconf('SC_PAGE_SIZE') * os.sysconf('SC_PHYS_PAGES')\n",
    "mem_gib = mem_bytes / (1024.**3)\n",
    "print(\"Computer characteristics: \")\n",
    "print(\"RAM: %f GB\" % mem_gib)\n",
    "print(\"CORES: %d\" % multiprocessing.cpu_count())\n"
   ]
  },
  {
   "cell_type": "code",
   "execution_count": 4,
   "metadata": {},
   "outputs": [
    {
     "name": "stdout",
     "output_type": "stream",
     "text": [
      "Max movie plot len:  36773\n",
      "Min movie plot len:  15\n"
     ]
    },
    {
     "data": {
      "text/plain": [
       "'United States Air Force Colonel William Hughes (Paul Kelly) asks Major Paul Peterson (John Payne), who has been called back to active service, to join a team at the Air Research and Development Command conducting tests on a downward ejection seat for bombardiers in the new Boeing B-47 Stratojet bomber. The first tests used articulated dummies, but human test subjects are needed. Besides Colonel Hughes, German scientist Dr. Franz Gruener (Gregory Gaye), also is in charge of the test program, working directly with the test subjects. Captain Jack Nolan (Richard Crane) is also assigned to the project.\\r\\nThe first volunteer, Captain Mike Cavallero (Eddie Firestone), suffers a broken neck when his parachute opens too early. He survives the test but is hospitalized. The next subject is Lieutenant Edward Simmons, to be followed by Paul. When Mike is suddenly rushed to hospital with an appendicitis attack, Paul moves up. Worried because he has a wife and son, Paul is reluctant to go, but then finds out that Captain Nolan has been killed in a B-47 crash, and as the bombardier, he might not have been able to escape the aircraft.\\r\\nHis wife (Karen Steele) begs his commanding officer to release Paul from his commitment. When Paul shows up to take the test, he finds Colonel Hughes suiting up. Imploring him to reconsider, Paul makes the case for doing the test to prove that a bailout is possible from the high-speed jet bomber. Flying with Dr. Gruener, Paul ejects, but when the ground observers ask him to indicate he is well by spread-eagling, he does not respond. On board the rescue launch, they pick up Paul and find he is fine; he was simply concentrating so hard that he forgot to spread-eagle. After he is cleared by the medics, Paul is greeted by Carol and his son Kit (Richard Eyer) and, with their blessing, decides to continue with the project.'"
      ]
     },
     "execution_count": 4,
     "metadata": {},
     "output_type": "execute_result"
    }
   ],
   "source": [
    "data = pd.read_csv(\"movie_plots.csv\")\n",
    "\n",
    "movie_plots = data['Plot']\n",
    "print(\"Max movie plot len: \", movie_plots.map(len).max())\n",
    "print(\"Min movie plot len: \", movie_plots.map(len).min())\n",
    "\n",
    "all_plots = list(movie_plots.values)\n",
    "# setting a seed so we get the same result every time\n",
    "random.seed(42)\n",
    "sample = random.sample(all_plots, 100)\n",
    "sample[6]"
   ]
  },
  {
   "cell_type": "markdown",
   "metadata": {},
   "source": [
    "## Tokenize words\n",
    "\n",
    "Tokenization is turning unique words into unique integers. This step is necessary for preparing data for embedding layer."
   ]
  },
  {
   "cell_type": "code",
   "execution_count": 5,
   "metadata": {},
   "outputs": [
    {
     "name": "stdout",
     "output_type": "stream",
     "text": [
      "[[   9 3264 3265  815  472    7  104  182  815   75   25 1188    2  969\n",
      "   348 2079    2  530 3266   60  429  815    3 2080  104  116 2081 2082\n",
      "     5 2083 1513    3    4 2084  599  429    3  116 1189  182 3267   44\n",
      "   699    1  473 1190   16    1 1514    5   10  531   10 3268  816    2\n",
      "   182  238   10    3   10 1515  532 3269   53  815 3270 3271   14 1516\n",
      "   116  128   26    1  430 2085   11  182    3  533   10   30   32    1\n",
      "  1513   42    8 3272  211  815   52 2086  429  317  248    2 3273    1\n",
      "    52  970   19    1  348 2080  104  116    3  104    9  600  971  474\n",
      "   117   63   55  161   59    2  212 3274    9  318    2 2087    1 1517\n",
      "  2088  382 2089   79  183    2  601   59 3275  182    2  532    9  318\n",
      "     2 3276    1 3277 2090 1518 1517 2088    9    1  969  348   61  532\n",
      "    63  972    2  162    4 1519   20   38   43 1191    2  142   62    3\n",
      "    63   55  383    2  817    1   52  475   15 1192    7 2091   53 2092\n",
      "    30    7   88  700   42    7 3278  117  971   79  319    3  163   12\n",
      "     8   79  249   12]]\n"
     ]
    }
   ],
   "source": [
    "max_words = 10000\n",
    "tokenizer = Tokenizer(num_words = max_words)\n",
    "tokenizer.fit_on_texts(sample)\n",
    "\n",
    "sequences = tokenizer.texts_to_sequences(sample)\n",
    "sequences_len = 200\n",
    "sequences = pad_sequences(sequences, maxlen = sequences_len, truncating = 'post')\n",
    "sequences.shape\n",
    "print(sequences[:1])"
   ]
  },
  {
   "cell_type": "code",
   "execution_count": 6,
   "metadata": {},
   "outputs": [
    {
     "name": "stdout",
     "output_type": "stream",
     "text": [
      "Corpus size:  20000\n",
      "Vocabulary size:  7003\n"
     ]
    }
   ],
   "source": [
    "# making a single list of tokens so we can apply sliding windows\n",
    "\n",
    "text = [item for sublist in sequences for item in sublist]\n",
    "print(\"Corpus size: \", len(text))\n",
    "vocab_size = len(tokenizer.word_index)\n",
    "print(\"Vocabulary size: \", vocab_size+1)\n"
   ]
  },
  {
   "cell_type": "code",
   "execution_count": 7,
   "metadata": {},
   "outputs": [],
   "source": [
    "# reverse dictionary so we can decode tokenized sequences back to words\n",
    "reverse_word_map = dict(map(reversed, tokenizer.word_index.items()))\n"
   ]
  },
  {
   "cell_type": "markdown",
   "metadata": {},
   "source": [
    "### Splitting the data for input and output values\n",
    "\n",
    "Input sequence has the size of 20 words, and output is the next word"
   ]
  },
  {
   "cell_type": "code",
   "execution_count": 8,
   "metadata": {},
   "outputs": [
    {
     "name": "stdout",
     "output_type": "stream",
     "text": [
      "19980\n"
     ]
    }
   ],
   "source": [
    "seq_len = 20\n",
    "\n",
    "dataX = []\n",
    "dataY = []\n",
    "\n",
    "for i in range(len(text)-seq_len):\n",
    "    seq_in = text[i:i+seq_len]\n",
    "    seq_out = text[i+seq_len]\n",
    "    dataX.append(seq_in)\n",
    "    dataY.append(seq_out)\n",
    "    \n",
    "size = len(dataX)\n",
    "print(size)"
   ]
  },
  {
   "cell_type": "code",
   "execution_count": 9,
   "metadata": {},
   "outputs": [
    {
     "name": "stdout",
     "output_type": "stream",
     "text": [
      "[   9 3264 3265  815  472    7  104  182  815   75   25 1188    2  969\n",
      "  348 2079    2  530 3266   60]\n",
      "429\n",
      "[3264 3265  815  472    7  104  182  815   75   25 1188    2  969  348\n",
      " 2079    2  530 3266   60  429]\n",
      "815\n",
      "in 1931 lon rambeau sends his daughter elizabeth rambeau away from london to napa valley california to visit lon's father\n",
      "philippe\n",
      "1931 lon rambeau sends his daughter elizabeth rambeau away from london to napa valley california to visit lon's father philippe\n",
      "rambeau\n",
      "lon rambeau sends his daughter elizabeth rambeau away from london to napa valley california to visit lon's father philippe rambeau\n",
      "and\n"
     ]
    }
   ],
   "source": [
    "dataX = np.asarray(dataX)\n",
    "dataY = np.asarray(dataY)\n",
    "\n",
    "print(dataX[0])\n",
    "print(dataY[0])\n",
    "print(dataX[1])\n",
    "print(dataY[1])\n",
    "\n",
    "print(\" \".join(map(lambda x : reverse_word_map[x], dataX[0])))\n",
    "print(reverse_word_map[dataY[0]])\n",
    "\n",
    "print(\" \".join(map(lambda x : reverse_word_map[x], dataX[1])))\n",
    "print(reverse_word_map[dataY[1]])\n",
    "\n",
    "print(\" \".join(map(lambda x : reverse_word_map[x], dataX[2])))\n",
    "print(reverse_word_map[dataY[2]])\n"
   ]
  },
  {
   "cell_type": "code",
   "execution_count": 10,
   "metadata": {},
   "outputs": [
    {
     "data": {
      "text/plain": [
       "(19980, 7003)"
      ]
     },
     "execution_count": 10,
     "metadata": {},
     "output_type": "execute_result"
    }
   ],
   "source": [
    "from keras.utils import np_utils\n",
    "\n",
    "trainX = dataX\n",
    "trainy = np_utils.to_categorical(dataY)\n",
    "trainy.shape"
   ]
  },
  {
   "cell_type": "markdown",
   "metadata": {},
   "source": [
    "### Creating a model"
   ]
  },
  {
   "cell_type": "code",
   "execution_count": 23,
   "metadata": {},
   "outputs": [
    {
     "name": "stdout",
     "output_type": "stream",
     "text": [
      "Model: \"sequential_2\"\n",
      "_________________________________________________________________\n",
      "Layer (type)                 Output Shape              Param #   \n",
      "=================================================================\n",
      "embedding_2 (Embedding)      (None, 20, 32)            224096    \n",
      "_________________________________________________________________\n",
      "lstm_3 (LSTM)                (None, 20, 100)           53200     \n",
      "_________________________________________________________________\n",
      "dropout_2 (Dropout)          (None, 20, 100)           0         \n",
      "_________________________________________________________________\n",
      "lstm_4 (LSTM)                (None, 100)               80400     \n",
      "_________________________________________________________________\n",
      "dense_2 (Dense)              (None, 7003)              707303    \n",
      "=================================================================\n",
      "Total params: 1,064,999\n",
      "Trainable params: 1,064,999\n",
      "Non-trainable params: 0\n",
      "_________________________________________________________________\n"
     ]
    }
   ],
   "source": [
    "import keras\n",
    "from keras.layers import LSTM, Dense, Embedding, Dropout\n",
    "from keras.models import Sequential\n",
    "from keras.callbacks import ModelCheckpoint\n",
    "\n",
    "model = Sequential()\n",
    "\n",
    "model.add(Embedding(vocab_size+1, 32, input_length = trainX.shape[1]))\n",
    "model.add(LSTM(100,  return_sequences=True))\n",
    "model.add(Dropout(0.2))\n",
    "model.add(LSTM(100))\n",
    "model.add(Dense(trainy.shape[1], activation = 'softmax'))\n",
    "model.summary()"
   ]
  },
  {
   "cell_type": "code",
   "execution_count": 33,
   "metadata": {},
   "outputs": [
    {
     "name": "stdout",
     "output_type": "stream",
     "text": [
      "Train on 15984 samples, validate on 3996 samples\n",
      "Epoch 1/50\n",
      "15984/15984 [==============================] - 50s 3ms/step - loss: 4.7669 - acc: 0.2797 - val_loss: 6.7892 - val_acc: 0.2450\n",
      "\n",
      "Epoch 00001: loss improved from inf to 4.76686, saving model to ./weights.hdf5\n",
      "Epoch 2/50\n",
      "15984/15984 [==============================] - 72s 5ms/step - loss: 4.6095 - acc: 0.2812 - val_loss: 7.0700 - val_acc: 0.2445\n",
      "\n",
      "Epoch 00002: loss improved from 4.76686 to 4.60955, saving model to ./weights.hdf5\n",
      "Epoch 3/50\n",
      "15984/15984 [==============================] - 62s 4ms/step - loss: 4.5379 - acc: 0.2828 - val_loss: 7.1893 - val_acc: 0.2457\n",
      "\n",
      "Epoch 00003: loss improved from 4.60955 to 4.53789, saving model to ./weights.hdf5\n",
      "Epoch 4/50\n",
      "15984/15984 [==============================] - 73s 5ms/step - loss: 4.4835 - acc: 0.2855 - val_loss: 7.3001 - val_acc: 0.2412\n",
      "\n",
      "Epoch 00004: loss improved from 4.53789 to 4.48350, saving model to ./weights.hdf5\n",
      "Epoch 5/50\n",
      "15984/15984 [==============================] - 66s 4ms/step - loss: 4.4310 - acc: 0.2874 - val_loss: 7.4731 - val_acc: 0.2430\n",
      "\n",
      "Epoch 00005: loss improved from 4.48350 to 4.43098, saving model to ./weights.hdf5\n",
      "Epoch 6/50\n",
      "15984/15984 [==============================] - 58s 4ms/step - loss: 4.3847 - acc: 0.2900 - val_loss: 7.5827 - val_acc: 0.2417\n",
      "\n",
      "Epoch 00006: loss improved from 4.43098 to 4.38474, saving model to ./weights.hdf5\n",
      "Epoch 7/50\n",
      "15984/15984 [==============================] - 71s 4ms/step - loss: 4.3393 - acc: 0.2922 - val_loss: 7.6202 - val_acc: 0.2427\n",
      "\n",
      "Epoch 00007: loss improved from 4.38474 to 4.33934, saving model to ./weights.hdf5\n",
      "Epoch 8/50\n",
      "15984/15984 [==============================] - 84s 5ms/step - loss: 4.2905 - acc: 0.2906 - val_loss: 7.7763 - val_acc: 0.2395\n",
      "\n",
      "Epoch 00008: loss improved from 4.33934 to 4.29050, saving model to ./weights.hdf5\n",
      "Epoch 9/50\n",
      "15984/15984 [==============================] - 73s 5ms/step - loss: 4.2433 - acc: 0.2936 - val_loss: 7.8209 - val_acc: 0.2412\n",
      "\n",
      "Epoch 00009: loss improved from 4.29050 to 4.24333, saving model to ./weights.hdf5\n",
      "Epoch 10/50\n",
      "15984/15984 [==============================] - 99s 6ms/step - loss: 4.2091 - acc: 0.2932 - val_loss: 7.9292 - val_acc: 0.2450\n",
      "\n",
      "Epoch 00010: loss improved from 4.24333 to 4.20915, saving model to ./weights.hdf5\n",
      "Epoch 11/50\n",
      "15984/15984 [==============================] - 76s 5ms/step - loss: 4.1514 - acc: 0.2978 - val_loss: 7.9413 - val_acc: 0.2397\n",
      "\n",
      "Epoch 00011: loss improved from 4.20915 to 4.15145, saving model to ./weights.hdf5\n",
      "Epoch 12/50\n",
      "15984/15984 [==============================] - 76s 5ms/step - loss: 4.1090 - acc: 0.2965 - val_loss: 8.0748 - val_acc: 0.2417\n",
      "\n",
      "Epoch 00012: loss improved from 4.15145 to 4.10900, saving model to ./weights.hdf5\n",
      "Epoch 13/50\n",
      "15984/15984 [==============================] - 87s 5ms/step - loss: 4.0707 - acc: 0.3008 - val_loss: 8.0959 - val_acc: 0.2412\n",
      "\n",
      "Epoch 00013: loss improved from 4.10900 to 4.07072, saving model to ./weights.hdf5\n",
      "Epoch 14/50\n",
      "15984/15984 [==============================] - 75s 5ms/step - loss: 4.0307 - acc: 0.3012 - val_loss: 8.1766 - val_acc: 0.2415\n",
      "\n",
      "Epoch 00014: loss improved from 4.07072 to 4.03073, saving model to ./weights.hdf5\n",
      "Epoch 15/50\n",
      "15984/15984 [==============================] - 56s 4ms/step - loss: 3.9907 - acc: 0.3022 - val_loss: 8.2028 - val_acc: 0.2385\n",
      "\n",
      "Epoch 00015: loss improved from 4.03073 to 3.99066, saving model to ./weights.hdf5\n",
      "Epoch 16/50\n",
      "15984/15984 [==============================] - 86s 5ms/step - loss: 3.9596 - acc: 0.3026 - val_loss: 8.2712 - val_acc: 0.2387\n",
      "\n",
      "Epoch 00016: loss improved from 3.99066 to 3.95963, saving model to ./weights.hdf5\n",
      "Epoch 17/50\n",
      "15984/15984 [==============================] - 79s 5ms/step - loss: 3.9254 - acc: 0.3019 - val_loss: 8.3431 - val_acc: 0.2400\n",
      "\n",
      "Epoch 00017: loss improved from 3.95963 to 3.92545, saving model to ./weights.hdf5\n",
      "Epoch 18/50\n",
      "15984/15984 [==============================] - 67s 4ms/step - loss: 3.8910 - acc: 0.3044 - val_loss: 8.4009 - val_acc: 0.2382\n",
      "\n",
      "Epoch 00018: loss improved from 3.92545 to 3.89098, saving model to ./weights.hdf5\n",
      "Epoch 19/50\n",
      "15984/15984 [==============================] - 66s 4ms/step - loss: 3.8604 - acc: 0.3072 - val_loss: 8.4762 - val_acc: 0.2397\n",
      "\n",
      "Epoch 00019: loss improved from 3.89098 to 3.86036, saving model to ./weights.hdf5\n",
      "Epoch 20/50\n",
      "15984/15984 [==============================] - 54s 3ms/step - loss: 3.8308 - acc: 0.3070 - val_loss: 8.4639 - val_acc: 0.2372\n",
      "\n",
      "Epoch 00020: loss improved from 3.86036 to 3.83085, saving model to ./weights.hdf5\n",
      "Epoch 21/50\n",
      "15984/15984 [==============================] - 65s 4ms/step - loss: 3.8021 - acc: 0.3087 - val_loss: 8.5514 - val_acc: 0.2387\n",
      "\n",
      "Epoch 00021: loss improved from 3.83085 to 3.80205, saving model to ./weights.hdf5\n",
      "Epoch 22/50\n",
      "15984/15984 [==============================] - 71s 4ms/step - loss: 3.7730 - acc: 0.3114 - val_loss: 8.5574 - val_acc: 0.2362\n",
      "\n",
      "Epoch 00022: loss improved from 3.80205 to 3.77304, saving model to ./weights.hdf5\n",
      "Epoch 23/50\n",
      "15984/15984 [==============================] - 100s 6ms/step - loss: 3.7457 - acc: 0.3127 - val_loss: 8.6209 - val_acc: 0.2385\n",
      "\n",
      "Epoch 00023: loss improved from 3.77304 to 3.74570, saving model to ./weights.hdf5\n",
      "Epoch 24/50\n",
      "15984/15984 [==============================] - 54s 3ms/step - loss: 3.7146 - acc: 0.3118 - val_loss: 8.6583 - val_acc: 0.2372\n",
      "\n",
      "Epoch 00024: loss improved from 3.74570 to 3.71464, saving model to ./weights.hdf5\n",
      "Epoch 25/50\n",
      "15984/15984 [==============================] - 58s 4ms/step - loss: 3.6851 - acc: 0.3158 - val_loss: 8.7128 - val_acc: 0.2377\n",
      "\n",
      "Epoch 00025: loss improved from 3.71464 to 3.68507, saving model to ./weights.hdf5\n",
      "Epoch 26/50\n",
      "15984/15984 [==============================] - 65s 4ms/step - loss: 3.6595 - acc: 0.3167 - val_loss: 8.7560 - val_acc: 0.2382\n",
      "\n",
      "Epoch 00026: loss improved from 3.68507 to 3.65948, saving model to ./weights.hdf5\n",
      "Epoch 27/50\n",
      "15984/15984 [==============================] - 73s 5ms/step - loss: 3.6366 - acc: 0.3172 - val_loss: 8.7803 - val_acc: 0.2380\n",
      "\n",
      "Epoch 00027: loss improved from 3.65948 to 3.63658, saving model to ./weights.hdf5\n",
      "Epoch 28/50\n",
      "15984/15984 [==============================] - 65s 4ms/step - loss: 3.6076 - acc: 0.3193 - val_loss: 8.8263 - val_acc: 0.2397\n",
      "\n",
      "Epoch 00028: loss improved from 3.63658 to 3.60765, saving model to ./weights.hdf5\n",
      "Epoch 29/50\n",
      "15984/15984 [==============================] - 59s 4ms/step - loss: 3.5862 - acc: 0.3202 - val_loss: 8.8715 - val_acc: 0.2382\n",
      "\n",
      "Epoch 00029: loss improved from 3.60765 to 3.58617, saving model to ./weights.hdf5\n",
      "Epoch 30/50\n",
      "15984/15984 [==============================] - 63s 4ms/step - loss: 3.5615 - acc: 0.3231 - val_loss: 8.9100 - val_acc: 0.2367\n",
      "\n",
      "Epoch 00030: loss improved from 3.58617 to 3.56147, saving model to ./weights.hdf5\n",
      "Epoch 31/50\n",
      "15984/15984 [==============================] - 63s 4ms/step - loss: 3.5364 - acc: 0.3236 - val_loss: 8.9534 - val_acc: 0.2377\n",
      "\n",
      "Epoch 00031: loss improved from 3.56147 to 3.53641, saving model to ./weights.hdf5\n",
      "Epoch 32/50\n",
      "15984/15984 [==============================] - 70s 4ms/step - loss: 3.5088 - acc: 0.3271 - val_loss: 8.9604 - val_acc: 0.2402\n",
      "\n",
      "Epoch 00032: loss improved from 3.53641 to 3.50879, saving model to ./weights.hdf5\n",
      "Epoch 33/50\n",
      "15984/15984 [==============================] - 59s 4ms/step - loss: 3.4913 - acc: 0.3283 - val_loss: 8.9814 - val_acc: 0.2367\n",
      "\n",
      "Epoch 00033: loss improved from 3.50879 to 3.49126, saving model to ./weights.hdf5\n",
      "Epoch 34/50\n",
      "15984/15984 [==============================] - 57s 4ms/step - loss: 3.4605 - acc: 0.3331 - val_loss: 9.0601 - val_acc: 0.2377\n",
      "\n",
      "Epoch 00034: loss improved from 3.49126 to 3.46047, saving model to ./weights.hdf5\n",
      "Epoch 35/50\n",
      "15984/15984 [==============================] - 58s 4ms/step - loss: 3.4377 - acc: 0.3346 - val_loss: 9.1006 - val_acc: 0.2390\n",
      "\n",
      "Epoch 00035: loss improved from 3.46047 to 3.43767, saving model to ./weights.hdf5\n",
      "Epoch 36/50\n",
      "15984/15984 [==============================] - 75s 5ms/step - loss: 3.4164 - acc: 0.3347 - val_loss: 9.1176 - val_acc: 0.2377\n",
      "\n",
      "Epoch 00036: loss improved from 3.43767 to 3.41636, saving model to ./weights.hdf5\n",
      "Epoch 37/50\n",
      "15984/15984 [==============================] - 72s 4ms/step - loss: 3.3897 - acc: 0.3382 - val_loss: 9.1412 - val_acc: 0.2365\n",
      "\n",
      "Epoch 00037: loss improved from 3.41636 to 3.38967, saving model to ./weights.hdf5\n",
      "Epoch 38/50\n"
     ]
    },
    {
     "name": "stdout",
     "output_type": "stream",
     "text": [
      "15984/15984 [==============================] - 85s 5ms/step - loss: 3.3695 - acc: 0.3416 - val_loss: 9.1674 - val_acc: 0.2372\n",
      "\n",
      "Epoch 00038: loss improved from 3.38967 to 3.36951, saving model to ./weights.hdf5\n",
      "Epoch 39/50\n",
      "15984/15984 [==============================] - 80s 5ms/step - loss: 3.3458 - acc: 0.3428 - val_loss: 9.2039 - val_acc: 0.2375\n",
      "\n",
      "Epoch 00039: loss improved from 3.36951 to 3.34583, saving model to ./weights.hdf5\n",
      "Epoch 40/50\n",
      "15984/15984 [==============================] - 89s 6ms/step - loss: 3.3245 - acc: 0.3495 - val_loss: 9.2354 - val_acc: 0.2387\n",
      "\n",
      "Epoch 00040: loss improved from 3.34583 to 3.32447, saving model to ./weights.hdf5\n",
      "Epoch 41/50\n",
      "15984/15984 [==============================] - 91s 6ms/step - loss: 3.2990 - acc: 0.3490 - val_loss: 9.2885 - val_acc: 0.2380\n",
      "\n",
      "Epoch 00041: loss improved from 3.32447 to 3.29904, saving model to ./weights.hdf5\n",
      "Epoch 42/50\n",
      "15984/15984 [==============================] - 90s 6ms/step - loss: 3.2733 - acc: 0.3538 - val_loss: 9.3028 - val_acc: 0.2385\n",
      "\n",
      "Epoch 00042: loss improved from 3.29904 to 3.27326, saving model to ./weights.hdf5\n",
      "Epoch 43/50\n",
      "15984/15984 [==============================] - 64s 4ms/step - loss: 3.2496 - acc: 0.3564 - val_loss: 9.3128 - val_acc: 0.2395\n",
      "\n",
      "Epoch 00043: loss improved from 3.27326 to 3.24961, saving model to ./weights.hdf5\n",
      "Epoch 44/50\n",
      "15984/15984 [==============================] - 63s 4ms/step - loss: 3.2293 - acc: 0.3608 - val_loss: 9.3384 - val_acc: 0.2395\n",
      "\n",
      "Epoch 00044: loss improved from 3.24961 to 3.22933, saving model to ./weights.hdf5\n",
      "Epoch 45/50\n",
      "15984/15984 [==============================] - 62s 4ms/step - loss: 3.2093 - acc: 0.3649 - val_loss: 9.3683 - val_acc: 0.2387\n",
      "\n",
      "Epoch 00045: loss improved from 3.22933 to 3.20932, saving model to ./weights.hdf5\n",
      "Epoch 46/50\n",
      "15984/15984 [==============================] - 60s 4ms/step - loss: 3.1876 - acc: 0.3647 - val_loss: 9.3890 - val_acc: 0.2385\n",
      "\n",
      "Epoch 00046: loss improved from 3.20932 to 3.18758, saving model to ./weights.hdf5\n",
      "Epoch 47/50\n",
      "15984/15984 [==============================] - 60s 4ms/step - loss: 3.1608 - acc: 0.3702 - val_loss: 9.4454 - val_acc: 0.2392\n",
      "\n",
      "Epoch 00047: loss improved from 3.18758 to 3.16078, saving model to ./weights.hdf5\n",
      "Epoch 48/50\n",
      "15984/15984 [==============================] - 56s 4ms/step - loss: 3.1399 - acc: 0.3692 - val_loss: 9.4682 - val_acc: 0.2407\n",
      "\n",
      "Epoch 00048: loss improved from 3.16078 to 3.13985, saving model to ./weights.hdf5\n",
      "Epoch 49/50\n",
      "15984/15984 [==============================] - 58s 4ms/step - loss: 3.1130 - acc: 0.3756 - val_loss: 9.5139 - val_acc: 0.2402\n",
      "\n",
      "Epoch 00049: loss improved from 3.13985 to 3.11298, saving model to ./weights.hdf5\n",
      "Epoch 50/50\n",
      "15984/15984 [==============================] - 60s 4ms/step - loss: 3.0888 - acc: 0.3811 - val_loss: 9.5525 - val_acc: 0.2387\n",
      "\n",
      "Epoch 00050: loss improved from 3.11298 to 3.08883, saving model to ./weights.hdf5\n"
     ]
    }
   ],
   "source": [
    "model.compile(optimizer = 'adam', loss = 'categorical_crossentropy', metrics = ['acc'])\n",
    "\n",
    "filepath = \"./weights.hdf5\"\n",
    "checkpoint = ModelCheckpoint(filepath, monitor = 'loss', verbose = 1, save_best_only = True, mode = 'min')\n",
    "callbacks = [checkpoint]\n",
    "\n",
    "hist = model.fit(trainX, trainy, epochs = 50, batch_size = 128, verbose = 1, callbacks = callbacks, validation_split=0.2)"
   ]
  },
  {
   "cell_type": "code",
   "execution_count": 34,
   "metadata": {},
   "outputs": [
    {
     "data": {
      "image/png": "[encoded data removed]",
      "text/plain": [
       "<Figure size 432x288 with 1 Axes>"
      ]
     },
     "metadata": {
      "needs_background": "light"
     },
     "output_type": "display_data"
    }
   ],
   "source": [
    "# Plotting loss\n",
    "\n",
    "plt.plot(hist.history['loss'])\n",
    "plt.title('Model train loss')\n",
    "plt.ylabel('Loss')\n",
    "plt.xlabel('Epoch')\n",
    "plt.legend(['Train', 'Validation'], loc='upper right')\n",
    "plt.show()"
   ]
  },
  {
   "cell_type": "code",
   "execution_count": 35,
   "metadata": {
    "scrolled": true
   },
   "outputs": [
    {
     "data": {
      "image/png": "[encoded data removed]",
      "text/plain": [
       "<Figure size 432x288 with 1 Axes>"
      ]
     },
     "metadata": {
      "needs_background": "light"
     },
     "output_type": "display_data"
    }
   ],
   "source": [
    "# Plotting accuracy\n",
    "\n",
    "plt.plot(hist.history[\"acc\"])\n",
    "plt.title('Model accuracy: ')\n",
    "plt.legend(['Train', 'Validation'], loc='upper right')\n",
    "plt.ylabel(\"accuracy\")\n",
    "plt.xlabel(\"epoch\")\n",
    "plt.show()"
   ]
  },
  {
   "cell_type": "code",
   "execution_count": 36,
   "metadata": {},
   "outputs": [
    {
     "name": "stdout",
     "output_type": "stream",
     "text": [
      "19980/19980 [==============================] - 19s 938us/step\n",
      "Train loss: 4.27\n",
      "Train accuracy: 38.18 %\n"
     ]
    }
   ],
   "source": [
    "results = model.evaluate(trainX, trainy, batch_size = 128)\n",
    "print('Train loss: %.2f'% results[0])\n",
    "print('Train accuracy: %.2f'%(results[1]*100), \"%\")"
   ]
  },
  {
   "cell_type": "code",
   "execution_count": 37,
   "metadata": {},
   "outputs": [],
   "source": [
    "# Loading weights from a checkpoint\n",
    "\n",
    "filename = \"50e100n.hdf5\"\n",
    "model.load_weights(filename)\n",
    "model.compile(loss = 'categorical_crossentropy', optimizer = 'adam')\n"
   ]
  },
  {
   "cell_type": "code",
   "execution_count": 38,
   "metadata": {},
   "outputs": [],
   "source": [
    "def generate_words(seed_text, num_words, model, max_seq_len = 20):\n",
    "    for i in range(num_words):\n",
    "        token_list = tokenizer.texts_to_sequences([seed_text])[0]\n",
    "        token_list = pad_sequences([token_list], maxlen = max_seq_len, padding = 'pre')\n",
    "        \n",
    "        predicted = model.predict_classes(token_list, verbose = 0)\n",
    "        output_word = ''\n",
    "        for word, index in tokenizer.word_index.items():\n",
    "            if index == predicted:\n",
    "                output_word = word\n",
    "                break\n",
    "                \n",
    "        seed_text = seed_text + \" \" + output_word\n",
    "        \n",
    "    return seed_text.title()"
   ]
  },
  {
   "cell_type": "code",
   "execution_count": 39,
   "metadata": {},
   "outputs": [
    {
     "name": "stdout",
     "output_type": "stream",
     "text": [
      "The Movie And Harford Phil Wheeler In Paradise Overhearing Reptiles The Fight Of A Local Woman And Has Been Forced To Be A Wife Technician And His Friend Who Is An Mother Who Is An Illegitimate Family Jr A J And Thief A Wife Technician And Says And Says And Tells By\n"
     ]
    }
   ],
   "source": [
    "print(generate_words(\"The movie\", 50, model))"
   ]
  },
  {
   "cell_type": "code",
   "execution_count": null,
   "metadata": {},
   "outputs": [],
   "source": []
  }
 ],
 "metadata": {
  "kernelspec": {
   "display_name": "Python 3",
   "language": "python",
   "name": "python3"
  },
  "language_info": {
   "codemirror_mode": {
    "name": "ipython",
    "version": 3
   },
   "file_extension": ".py",
   "mimetype": "text/x-python",
   "name": "python",
   "nbconvert_exporter": "python",
   "pygments_lexer": "ipython3",
   "version": "3.6.9"
  }
 },
 "nbformat": 4,
 "nbformat_minor": 4
}
