{
 "cells": [
  {
   "cell_type": "markdown",
   "metadata": {},
   "source": [
    "# Text generation\n",
    "\n",
    "The goal of this project is to demonstrate text generation using LSTM neural networks.\n",
    "Our database contains numerous movie plots taken from Wikipedia, so we will generate something similiar."
   ]
  },
  {
   "cell_type": "code",
   "execution_count": 1,
   "metadata": {},
   "outputs": [
    {
     "name": "stderr",
     "output_type": "stream",
     "text": [
      "/home/nemanja/.local/lib/python3.6/site-packages/tensorflow/python/framework/dtypes.py:516: FutureWarning: Passing (type, 1) or '1type' as a synonym of type is deprecated; in a future version of numpy, it will be understood as (type, (1,)) / '(1,)type'.\n",
      "  _np_qint8 = np.dtype([(\"qint8\", np.int8, 1)])\n",
      "/home/nemanja/.local/lib/python3.6/site-packages/tensorflow/python/framework/dtypes.py:517: FutureWarning: Passing (type, 1) or '1type' as a synonym of type is deprecated; in a future version of numpy, it will be understood as (type, (1,)) / '(1,)type'.\n",
      "  _np_quint8 = np.dtype([(\"quint8\", np.uint8, 1)])\n",
      "/home/nemanja/.local/lib/python3.6/site-packages/tensorflow/python/framework/dtypes.py:518: FutureWarning: Passing (type, 1) or '1type' as a synonym of type is deprecated; in a future version of numpy, it will be understood as (type, (1,)) / '(1,)type'.\n",
      "  _np_qint16 = np.dtype([(\"qint16\", np.int16, 1)])\n",
      "/home/nemanja/.local/lib/python3.6/site-packages/tensorflow/python/framework/dtypes.py:519: FutureWarning: Passing (type, 1) or '1type' as a synonym of type is deprecated; in a future version of numpy, it will be understood as (type, (1,)) / '(1,)type'.\n",
      "  _np_quint16 = np.dtype([(\"quint16\", np.uint16, 1)])\n",
      "/home/nemanja/.local/lib/python3.6/site-packages/tensorflow/python/framework/dtypes.py:520: FutureWarning: Passing (type, 1) or '1type' as a synonym of type is deprecated; in a future version of numpy, it will be understood as (type, (1,)) / '(1,)type'.\n",
      "  _np_qint32 = np.dtype([(\"qint32\", np.int32, 1)])\n",
      "/home/nemanja/.local/lib/python3.6/site-packages/tensorflow/python/framework/dtypes.py:525: FutureWarning: Passing (type, 1) or '1type' as a synonym of type is deprecated; in a future version of numpy, it will be understood as (type, (1,)) / '(1,)type'.\n",
      "  np_resource = np.dtype([(\"resource\", np.ubyte, 1)])\n",
      "/home/nemanja/.local/lib/python3.6/site-packages/tensorboard/compat/tensorflow_stub/dtypes.py:541: FutureWarning: Passing (type, 1) or '1type' as a synonym of type is deprecated; in a future version of numpy, it will be understood as (type, (1,)) / '(1,)type'.\n",
      "  _np_qint8 = np.dtype([(\"qint8\", np.int8, 1)])\n",
      "/home/nemanja/.local/lib/python3.6/site-packages/tensorboard/compat/tensorflow_stub/dtypes.py:542: FutureWarning: Passing (type, 1) or '1type' as a synonym of type is deprecated; in a future version of numpy, it will be understood as (type, (1,)) / '(1,)type'.\n",
      "  _np_quint8 = np.dtype([(\"quint8\", np.uint8, 1)])\n",
      "/home/nemanja/.local/lib/python3.6/site-packages/tensorboard/compat/tensorflow_stub/dtypes.py:543: FutureWarning: Passing (type, 1) or '1type' as a synonym of type is deprecated; in a future version of numpy, it will be understood as (type, (1,)) / '(1,)type'.\n",
      "  _np_qint16 = np.dtype([(\"qint16\", np.int16, 1)])\n",
      "/home/nemanja/.local/lib/python3.6/site-packages/tensorboard/compat/tensorflow_stub/dtypes.py:544: FutureWarning: Passing (type, 1) or '1type' as a synonym of type is deprecated; in a future version of numpy, it will be understood as (type, (1,)) / '(1,)type'.\n",
      "  _np_quint16 = np.dtype([(\"quint16\", np.uint16, 1)])\n",
      "/home/nemanja/.local/lib/python3.6/site-packages/tensorboard/compat/tensorflow_stub/dtypes.py:545: FutureWarning: Passing (type, 1) or '1type' as a synonym of type is deprecated; in a future version of numpy, it will be understood as (type, (1,)) / '(1,)type'.\n",
      "  _np_qint32 = np.dtype([(\"qint32\", np.int32, 1)])\n",
      "/home/nemanja/.local/lib/python3.6/site-packages/tensorboard/compat/tensorflow_stub/dtypes.py:550: FutureWarning: Passing (type, 1) or '1type' as a synonym of type is deprecated; in a future version of numpy, it will be understood as (type, (1,)) / '(1,)type'.\n",
      "  np_resource = np.dtype([(\"resource\", np.ubyte, 1)])\n",
      "Using TensorFlow backend.\n"
     ]
    },
    {
     "ename": "ModuleNotFoundError",
     "evalue": "No module named 'nltk'",
     "output_type": "error",
     "traceback": [
      "\u001b[0;31m---------------------------------------------------------------------------\u001b[0m",
      "\u001b[0;31mModuleNotFoundError\u001b[0m                       Traceback (most recent call last)",
      "\u001b[0;32m<ipython-input-1-801b9a3d56a3>\u001b[0m in \u001b[0;36m<module>\u001b[0;34m\u001b[0m\n\u001b[1;32m      9\u001b[0m \u001b[0;32mfrom\u001b[0m \u001b[0mkeras\u001b[0m\u001b[0;34m.\u001b[0m\u001b[0mmodels\u001b[0m \u001b[0;32mimport\u001b[0m \u001b[0mSequential\u001b[0m\u001b[0;34m\u001b[0m\u001b[0;34m\u001b[0m\u001b[0m\n\u001b[1;32m     10\u001b[0m \u001b[0;32mimport\u001b[0m \u001b[0mrandom\u001b[0m\u001b[0;34m\u001b[0m\u001b[0;34m\u001b[0m\u001b[0m\n\u001b[0;32m---> 11\u001b[0;31m \u001b[0;32mfrom\u001b[0m \u001b[0mnltk\u001b[0m\u001b[0;34m.\u001b[0m\u001b[0mcorpus\u001b[0m \u001b[0;32mimport\u001b[0m \u001b[0mstopwords\u001b[0m\u001b[0;34m\u001b[0m\u001b[0;34m\u001b[0m\u001b[0m\n\u001b[0m\u001b[1;32m     12\u001b[0m \u001b[0;32mimport\u001b[0m \u001b[0mmatplotlib\u001b[0m\u001b[0;34m.\u001b[0m\u001b[0mpyplot\u001b[0m \u001b[0;32mas\u001b[0m \u001b[0mplt\u001b[0m\u001b[0;34m\u001b[0m\u001b[0;34m\u001b[0m\u001b[0m\n\u001b[1;32m     13\u001b[0m \u001b[0;32mimport\u001b[0m \u001b[0mwarnings\u001b[0m\u001b[0;34m\u001b[0m\u001b[0;34m\u001b[0m\u001b[0m\n",
      "\u001b[0;31mModuleNotFoundError\u001b[0m: No module named 'nltk'"
     ]
    }
   ],
   "source": [
    "import tensorflow as tf\n",
    "import pandas as pd\n",
    "import numpy as np\n",
    "from keras.preprocessing.text import Tokenizer\n",
    "from sklearn.feature_extraction.text import CountVectorizer\n",
    "from keras.utils import to_categorical\n",
    "from keras.preprocessing.sequence import pad_sequences\n",
    "from keras.layers import LSTM, Dense, Dropout, Embedding\n",
    "from keras.models import Sequential\n",
    "import random \n",
    "from nltk.corpus import stopwords\n",
    "import matplotlib.pyplot as plt\n",
    "import warnings\n",
    "warnings.filterwarnings(\"ignore\")\n",
    "warnings.simplefilter(action='ignore', category=FutureWarning)\n"
   ]
  },
  {
   "cell_type": "code",
   "execution_count": 20,
   "metadata": {},
   "outputs": [
    {
     "name": "stdout",
     "output_type": "stream",
     "text": [
      "Max movie plot len:  36773\n",
      "Min movie plot len:  15\n"
     ]
    }
   ],
   "source": [
    "data = pd.read_csv(\"movie_plots.csv\")\n",
    "\n",
    "movie_plots = data['Plot']\n",
    "print(\"Max movie plot len: \", movie_plots.map(len).max())\n",
    "print(\"Min movie plot len: \", movie_plots.map(len).min())\n",
    "\n",
    "all_plots = list(movie_plots.values)\n",
    "\n",
    "random.seed(42)\n",
    "sample = random.sample(all_plots, 50)\n",
    "#all_plots = all_plots[:100]\n",
    "sample[:2]"
   ]
  },
  {
   "cell_type": "markdown",
   "metadata": {},
   "source": [
    "## Tokenize words\n",
    "\n",
    "Tokenization is turning unique words into unique integers. This step is necessary for preparing data for embedding layer."
   ]
  },
  {
   "cell_type": "code",
   "execution_count": 21,
   "metadata": {},
   "outputs": [
    {
     "name": "stdout",
     "output_type": "stream",
     "text": [
      "[[ 102 1013   31    7    4 1377   19    7  496   20    1 2241 2242    3\n",
      "     9    7  497   21    4 1014 2243 1378   44    4  608   10  108  609\n",
      "     3  610 2244  498   39 1379   46    7  499  144   34  611  749   31\n",
      "    26    8  184 1380 2245   33  750    3   90 1381  612   14   21    8\n",
      "   500    5 2246   71  376    2  751   15    3  268   21    8  377 1378\n",
      "     1  421  749    5  752   28 1015    5 1379  501]\n",
      " [ 139  203 2436 2437   20 1073  238   22   55    3  190 2438   28  393\n",
      "  1478  341  139   88 1074    3  190   88  284 1479   74   19    7    4\n",
      "  2439  773    5    1 2440    7 2441    2    4 2442 1075  139    3  190\n",
      "    28  771    3   32    6  239   12  335  128   92  139 1480   26 2443\n",
      "    34    4 2444  147   63   47   88  284  203 2445  139   85   30  648\n",
      "     2   69    4  342    3  150    2 1481    8  140]]\n"
     ]
    }
   ],
   "source": [
    "max_words = 50000\n",
    "tokenizer = Tokenizer(num_words = max_words)\n",
    "tokenizer.fit_on_texts(sample)\n",
    "\n",
    "sequences = tokenizer.texts_to_sequences(sample)\n",
    "sequences = pad_sequences(sequences, maxlen = 80, truncating = 'post')\n",
    "sequences.shape\n",
    "print(sequences[:2])"
   ]
  },
  {
   "cell_type": "code",
   "execution_count": 22,
   "metadata": {},
   "outputs": [
    {
     "name": "stdout",
     "output_type": "stream",
     "text": [
      "4000\n"
     ]
    }
   ],
   "source": [
    "# making a single list of tokens so we can apply sliding windows\n",
    "\n",
    "text = [item for sublist in sequences for item in sublist]\n",
    "print(len(text))\n",
    "vocab_size = len(tokenizer.word_index)"
   ]
  },
  {
   "cell_type": "code",
   "execution_count": 23,
   "metadata": {},
   "outputs": [
    {
     "name": "stdout",
     "output_type": "stream",
     "text": [
      "Vocabulary size:  5162\n"
     ]
    }
   ],
   "source": [
    "print(\"Vocabulary size: \", vocab_size+1)\n",
    "\n",
    "# reverse dictionary so we can decode tokenized sequences back to words\n",
    "reverse_word_map = dict(map(reversed, tokenizer.word_index.items()))\n"
   ]
  },
  {
   "cell_type": "markdown",
   "metadata": {},
   "source": [
    "### Splitting the data for input and output values"
   ]
  },
  {
   "cell_type": "code",
   "execution_count": 24,
   "metadata": {},
   "outputs": [
    {
     "name": "stdout",
     "output_type": "stream",
     "text": [
      "3980\n"
     ]
    }
   ],
   "source": [
    "seq_len = 20\n",
    "\n",
    "dataX = []\n",
    "dataY = []\n",
    "\n",
    "for i in range(len(text)-seq_len):\n",
    "    seq_in = text[i:i+seq_len]\n",
    "    seq_out = text[i+seq_len]\n",
    "    dataX.append(seq_in)\n",
    "    dataY.append(seq_out)\n",
    "    \n",
    "size = len(dataX)\n",
    "print(size)"
   ]
  },
  {
   "cell_type": "code",
   "execution_count": 25,
   "metadata": {},
   "outputs": [
    {
     "data": {
      "text/plain": [
       "((3980, 20), (3980,))"
      ]
     },
     "execution_count": 25,
     "metadata": {},
     "output_type": "execute_result"
    }
   ],
   "source": [
    "dataX = np.asarray(dataX)\n",
    "dataY = np.asarray(dataY)\n",
    "dataX.shape, dataY.shape"
   ]
  },
  {
   "cell_type": "code",
   "execution_count": 26,
   "metadata": {},
   "outputs": [
    {
     "data": {
      "text/plain": [
       "(3980, 5147)"
      ]
     },
     "execution_count": 26,
     "metadata": {},
     "output_type": "execute_result"
    }
   ],
   "source": [
    "from keras.utils import np_utils\n",
    "\n",
    "#trainX = np.reshape(dataX, (size, seq_len, 1))\n",
    "trainX = dataX\n",
    "trainy = np_utils.to_categorical(dataY)\n",
    "trainy.shape"
   ]
  },
  {
   "cell_type": "markdown",
   "metadata": {},
   "source": [
    "### Creating a model"
   ]
  },
  {
   "cell_type": "code",
   "execution_count": 64,
   "metadata": {},
   "outputs": [
    {
     "name": "stdout",
     "output_type": "stream",
     "text": [
      "Model: \"sequential_16\"\n",
      "_________________________________________________________________\n",
      "Layer (type)                 Output Shape              Param #   \n",
      "=================================================================\n",
      "embedding_15 (Embedding)     (None, 20, 10)            51620     \n",
      "_________________________________________________________________\n",
      "lstm_26 (LSTM)               (None, 20, 256)           273408    \n",
      "_________________________________________________________________\n",
      "dropout_18 (Dropout)         (None, 20, 256)           0         \n",
      "_________________________________________________________________\n",
      "lstm_27 (LSTM)               (None, 256)               525312    \n",
      "_________________________________________________________________\n",
      "dense_9 (Dense)              (None, 5147)              1322779   \n",
      "=================================================================\n",
      "Total params: 2,173,119\n",
      "Trainable params: 2,173,119\n",
      "Non-trainable params: 0\n",
      "_________________________________________________________________\n"
     ]
    }
   ],
   "source": [
    "import keras\n",
    "from keras.layers import LSTM, Dense, Embedding, Dropout\n",
    "from keras.models import Sequential\n",
    "from keras.callbacks import ModelCheckpoint\n",
    "\n",
    "model = Sequential()\n",
    "#Embedding layer has 3 parameters: input_dim, output_dim, input_length\n",
    "model.add(Embedding(vocab_size+1, 10, input_length = trainX.shape[1]))\n",
    "model.add(LSTM(256,  return_sequences=True))\n",
    "model.add(Dropout(0.2))\n",
    "model.add(LSTM(256))\n",
    "#model.add(Dropout(0.1))\n",
    "model.add(Dense(trainy.shape[1], activation = 'softmax'))\n",
    "model.summary()"
   ]
  },
  {
   "cell_type": "code",
   "execution_count": 65,
   "metadata": {},
   "outputs": [
    {
     "name": "stdout",
     "output_type": "stream",
     "text": [
      "Train on 3184 samples, validate on 796 samples\n",
      "Epoch 1/50\n",
      "3184/3184 [==============================] - 43s 13ms/step - loss: 7.8018 - acc: 0.0396 - val_loss: 7.8643 - val_acc: 0.0377\n",
      "\n",
      "Epoch 00001: loss improved from inf to 7.80177, saving model to ./weights.hdf5\n",
      "Epoch 2/50\n",
      "3184/3184 [==============================] - 29s 9ms/step - loss: 6.6980 - acc: 0.0477 - val_loss: 8.0181 - val_acc: 0.0377\n",
      "\n",
      "Epoch 00002: loss improved from 7.80177 to 6.69801, saving model to ./weights.hdf5\n",
      "Epoch 3/50\n",
      "3184/3184 [==============================] - 29s 9ms/step - loss: 6.4255 - acc: 0.0452 - val_loss: 8.1055 - val_acc: 0.0377\n",
      "\n",
      "Epoch 00003: loss improved from 6.69801 to 6.42553, saving model to ./weights.hdf5\n",
      "Epoch 4/50\n",
      "3184/3184 [==============================] - 29s 9ms/step - loss: 6.3602 - acc: 0.0415 - val_loss: 8.2946 - val_acc: 0.0377\n",
      "\n",
      "Epoch 00004: loss improved from 6.42553 to 6.36017, saving model to ./weights.hdf5\n",
      "Epoch 5/50\n",
      "3184/3184 [==============================] - 28s 9ms/step - loss: 6.3386 - acc: 0.0421 - val_loss: 8.4791 - val_acc: 0.0377\n",
      "\n",
      "Epoch 00005: loss improved from 6.36017 to 6.33862, saving model to ./weights.hdf5\n",
      "Epoch 6/50\n",
      "3184/3184 [==============================] - 28s 9ms/step - loss: 6.3283 - acc: 0.0452 - val_loss: 8.5452 - val_acc: 0.0050\n",
      "\n",
      "Epoch 00006: loss improved from 6.33862 to 6.32835, saving model to ./weights.hdf5\n",
      "Epoch 7/50\n",
      "3184/3184 [==============================] - 28s 9ms/step - loss: 6.3250 - acc: 0.0446 - val_loss: 8.5490 - val_acc: 0.0377\n",
      "\n",
      "Epoch 00007: loss improved from 6.32835 to 6.32495, saving model to ./weights.hdf5\n",
      "Epoch 8/50\n",
      "3184/3184 [==============================] - 29s 9ms/step - loss: 6.3167 - acc: 0.0415 - val_loss: 8.5299 - val_acc: 0.0377\n",
      "\n",
      "Epoch 00008: loss improved from 6.32495 to 6.31672, saving model to ./weights.hdf5\n",
      "Epoch 9/50\n",
      "3184/3184 [==============================] - 28s 9ms/step - loss: 6.3143 - acc: 0.0477 - val_loss: 8.6005 - val_acc: 0.0377\n",
      "\n",
      "Epoch 00009: loss improved from 6.31672 to 6.31434, saving model to ./weights.hdf5\n",
      "Epoch 10/50\n",
      "3184/3184 [==============================] - 28s 9ms/step - loss: 6.3135 - acc: 0.0477 - val_loss: 8.7414 - val_acc: 0.0377\n",
      "\n",
      "Epoch 00010: loss improved from 6.31434 to 6.31351, saving model to ./weights.hdf5\n",
      "Epoch 11/50\n",
      "3184/3184 [==============================] - 27s 9ms/step - loss: 6.3028 - acc: 0.0471 - val_loss: 8.7738 - val_acc: 0.0377\n",
      "\n",
      "Epoch 00011: loss improved from 6.31351 to 6.30278, saving model to ./weights.hdf5\n",
      "Epoch 12/50\n",
      "3184/3184 [==============================] - 27s 9ms/step - loss: 6.2985 - acc: 0.0408 - val_loss: 8.6488 - val_acc: 0.0377\n",
      "\n",
      "Epoch 00012: loss improved from 6.30278 to 6.29849, saving model to ./weights.hdf5\n",
      "Epoch 13/50\n",
      "3184/3184 [==============================] - 28s 9ms/step - loss: 6.2935 - acc: 0.0433 - val_loss: 8.6051 - val_acc: 0.0377\n",
      "\n",
      "Epoch 00013: loss improved from 6.29849 to 6.29349, saving model to ./weights.hdf5\n",
      "Epoch 14/50\n",
      "3184/3184 [==============================] - 28s 9ms/step - loss: 6.2793 - acc: 0.0477 - val_loss: 8.7350 - val_acc: 0.0377\n",
      "\n",
      "Epoch 00014: loss improved from 6.29349 to 6.27925, saving model to ./weights.hdf5\n",
      "Epoch 15/50\n",
      "3184/3184 [==============================] - 31s 10ms/step - loss: 6.2320 - acc: 0.0437 - val_loss: 8.8443 - val_acc: 0.0126\n",
      "\n",
      "Epoch 00015: loss improved from 6.27925 to 6.23197, saving model to ./weights.hdf5\n",
      "Epoch 16/50\n",
      "3184/3184 [==============================] - 29s 9ms/step - loss: 6.1131 - acc: 0.0675 - val_loss: 8.4646 - val_acc: 0.0377\n",
      "\n",
      "Epoch 00016: loss improved from 6.23197 to 6.11306, saving model to ./weights.hdf5\n",
      "Epoch 17/50\n",
      "3184/3184 [==============================] - 28s 9ms/step - loss: 6.0233 - acc: 0.0732 - val_loss: 8.6415 - val_acc: 0.0389\n",
      "\n",
      "Epoch 00017: loss improved from 6.11306 to 6.02332, saving model to ./weights.hdf5\n",
      "Epoch 18/50\n",
      "3184/3184 [==============================] - 28s 9ms/step - loss: 5.9369 - acc: 0.0835 - val_loss: 8.7440 - val_acc: 0.0402\n",
      "\n",
      "Epoch 00018: loss improved from 6.02332 to 5.93689, saving model to ./weights.hdf5\n",
      "Epoch 19/50\n",
      "3184/3184 [==============================] - 29s 9ms/step - loss: 5.8727 - acc: 0.0832 - val_loss: 8.6250 - val_acc: 0.0427\n",
      "\n",
      "Epoch 00019: loss improved from 5.93689 to 5.87269, saving model to ./weights.hdf5\n",
      "Epoch 20/50\n",
      "3184/3184 [==============================] - 29s 9ms/step - loss: 5.8002 - acc: 0.0832 - val_loss: 9.1296 - val_acc: 0.0427\n",
      "\n",
      "Epoch 00020: loss improved from 5.87269 to 5.80018, saving model to ./weights.hdf5\n",
      "Epoch 21/50\n",
      "3184/3184 [==============================] - 28s 9ms/step - loss: 5.7253 - acc: 0.0870 - val_loss: 9.3164 - val_acc: 0.0377\n",
      "\n",
      "Epoch 00021: loss improved from 5.80018 to 5.72533, saving model to ./weights.hdf5\n",
      "Epoch 22/50\n",
      "3184/3184 [==============================] - 28s 9ms/step - loss: 5.6352 - acc: 0.0845 - val_loss: 9.4841 - val_acc: 0.0389\n",
      "\n",
      "Epoch 00022: loss improved from 5.72533 to 5.63524, saving model to ./weights.hdf5\n",
      "Epoch 23/50\n",
      "3184/3184 [==============================] - 28s 9ms/step - loss: 5.5602 - acc: 0.0920 - val_loss: 9.6547 - val_acc: 0.0389\n",
      "\n",
      "Epoch 00023: loss improved from 5.63524 to 5.56015, saving model to ./weights.hdf5\n",
      "Epoch 24/50\n",
      "3184/3184 [==============================] - 29s 9ms/step - loss: 5.4875 - acc: 0.0901 - val_loss: 9.7592 - val_acc: 0.0528\n",
      "\n",
      "Epoch 00024: loss improved from 5.56015 to 5.48747, saving model to ./weights.hdf5\n",
      "Epoch 25/50\n",
      "3184/3184 [==============================] - 33s 10ms/step - loss: 5.4242 - acc: 0.0970 - val_loss: 9.9839 - val_acc: 0.0528\n",
      "\n",
      "Epoch 00025: loss improved from 5.48747 to 5.42419, saving model to ./weights.hdf5\n",
      "Epoch 26/50\n",
      "3184/3184 [==============================] - 30s 10ms/step - loss: 5.3533 - acc: 0.0958 - val_loss: 10.1168 - val_acc: 0.0578\n",
      "\n",
      "Epoch 00026: loss improved from 5.42419 to 5.35327, saving model to ./weights.hdf5\n",
      "Epoch 27/50\n",
      "3184/3184 [==============================] - 27s 9ms/step - loss: 5.2966 - acc: 0.0961 - val_loss: 10.3879 - val_acc: 0.0691\n",
      "\n",
      "Epoch 00027: loss improved from 5.35327 to 5.29655, saving model to ./weights.hdf5\n",
      "Epoch 28/50\n",
      "3184/3184 [==============================] - 27s 9ms/step - loss: 5.2172 - acc: 0.0974 - val_loss: 10.3325 - val_acc: 0.0427\n",
      "\n",
      "Epoch 00028: loss improved from 5.29655 to 5.21724, saving model to ./weights.hdf5\n",
      "Epoch 29/50\n",
      "3184/3184 [==============================] - 28s 9ms/step - loss: 5.1466 - acc: 0.1106 - val_loss: 10.6025 - val_acc: 0.0628\n",
      "\n",
      "Epoch 00029: loss improved from 5.21724 to 5.14661, saving model to ./weights.hdf5\n",
      "Epoch 30/50\n",
      "3184/3184 [==============================] - 27s 9ms/step - loss: 5.0827 - acc: 0.1052 - val_loss: 10.7899 - val_acc: 0.0590\n",
      "\n",
      "Epoch 00030: loss improved from 5.14661 to 5.08271, saving model to ./weights.hdf5\n",
      "Epoch 31/50\n",
      "3184/3184 [==============================] - 28s 9ms/step - loss: 5.0256 - acc: 0.1087 - val_loss: 10.9393 - val_acc: 0.0553\n",
      "\n",
      "Epoch 00031: loss improved from 5.08271 to 5.02557, saving model to ./weights.hdf5\n",
      "Epoch 32/50\n",
      "3184/3184 [==============================] - 27s 8ms/step - loss: 4.9672 - acc: 0.1102 - val_loss: 10.8567 - val_acc: 0.0628\n",
      "\n",
      "Epoch 00032: loss improved from 5.02557 to 4.96722, saving model to ./weights.hdf5\n",
      "Epoch 33/50\n",
      "3184/3184 [==============================] - 28s 9ms/step - loss: 4.9006 - acc: 0.1121 - val_loss: 11.0879 - val_acc: 0.0603\n",
      "\n",
      "Epoch 00033: loss improved from 4.96722 to 4.90056, saving model to ./weights.hdf5\n",
      "Epoch 34/50\n",
      "3184/3184 [==============================] - 27s 9ms/step - loss: 4.8434 - acc: 0.1149 - val_loss: 11.0974 - val_acc: 0.0477\n",
      "\n",
      "Epoch 00034: loss improved from 4.90056 to 4.84337, saving model to ./weights.hdf5\n",
      "Epoch 35/50\n",
      "3184/3184 [==============================] - 28s 9ms/step - loss: 4.7932 - acc: 0.1128 - val_loss: 11.0224 - val_acc: 0.0490\n",
      "\n",
      "Epoch 00035: loss improved from 4.84337 to 4.79320, saving model to ./weights.hdf5\n",
      "Epoch 36/50\n",
      "3184/3184 [==============================] - 27s 9ms/step - loss: 4.7371 - acc: 0.1200 - val_loss: 11.2094 - val_acc: 0.0389\n",
      "\n",
      "Epoch 00036: loss improved from 4.79320 to 4.73707, saving model to ./weights.hdf5\n",
      "Epoch 37/50\n",
      "3184/3184 [==============================] - 27s 8ms/step - loss: 4.6841 - acc: 0.1184 - val_loss: 11.2988 - val_acc: 0.0528\n",
      "\n",
      "Epoch 00037: loss improved from 4.73707 to 4.68411, saving model to ./weights.hdf5\n",
      "Epoch 38/50\n"
     ]
    },
    {
     "name": "stdout",
     "output_type": "stream",
     "text": [
      "3184/3184 [==============================] - 27s 9ms/step - loss: 4.6276 - acc: 0.1193 - val_loss: 11.4470 - val_acc: 0.0465\n",
      "\n",
      "Epoch 00038: loss improved from 4.68411 to 4.62764, saving model to ./weights.hdf5\n",
      "Epoch 39/50\n",
      "3184/3184 [==============================] - 27s 9ms/step - loss: 4.5749 - acc: 0.1215 - val_loss: 11.4583 - val_acc: 0.0465\n",
      "\n",
      "Epoch 00039: loss improved from 4.62764 to 4.57487, saving model to ./weights.hdf5\n",
      "Epoch 40/50\n",
      "3184/3184 [==============================] - 29s 9ms/step - loss: 4.5220 - acc: 0.1278 - val_loss: 11.4937 - val_acc: 0.0440\n",
      "\n",
      "Epoch 00040: loss improved from 4.57487 to 4.52203, saving model to ./weights.hdf5\n",
      "Epoch 41/50\n",
      "3184/3184 [==============================] - 27s 9ms/step - loss: 4.4713 - acc: 0.1300 - val_loss: 11.3906 - val_acc: 0.0440\n",
      "\n",
      "Epoch 00041: loss improved from 4.52203 to 4.47130, saving model to ./weights.hdf5\n",
      "Epoch 42/50\n",
      "3184/3184 [==============================] - 28s 9ms/step - loss: 4.4240 - acc: 0.1313 - val_loss: 11.4432 - val_acc: 0.0364\n",
      "\n",
      "Epoch 00042: loss improved from 4.47130 to 4.42405, saving model to ./weights.hdf5\n",
      "Epoch 43/50\n",
      "3184/3184 [==============================] - 28s 9ms/step - loss: 4.3754 - acc: 0.1322 - val_loss: 11.5810 - val_acc: 0.0427\n",
      "\n",
      "Epoch 00043: loss improved from 4.42405 to 4.37537, saving model to ./weights.hdf5\n",
      "Epoch 44/50\n",
      "3184/3184 [==============================] - 27s 8ms/step - loss: 4.3320 - acc: 0.1354 - val_loss: 11.6244 - val_acc: 0.0427\n",
      "\n",
      "Epoch 00044: loss improved from 4.37537 to 4.33202, saving model to ./weights.hdf5\n",
      "Epoch 45/50\n",
      "3184/3184 [==============================] - 27s 8ms/step - loss: 4.2788 - acc: 0.1338 - val_loss: 11.6335 - val_acc: 0.0465\n",
      "\n",
      "Epoch 00045: loss improved from 4.33202 to 4.27875, saving model to ./weights.hdf5\n",
      "Epoch 46/50\n",
      "3184/3184 [==============================] - 27s 8ms/step - loss: 4.2363 - acc: 0.1366 - val_loss: 11.6865 - val_acc: 0.0415\n",
      "\n",
      "Epoch 00046: loss improved from 4.27875 to 4.23630, saving model to ./weights.hdf5\n",
      "Epoch 47/50\n",
      "3184/3184 [==============================] - 27s 9ms/step - loss: 4.1868 - acc: 0.1388 - val_loss: 11.6968 - val_acc: 0.0415\n",
      "\n",
      "Epoch 00047: loss improved from 4.23630 to 4.18684, saving model to ./weights.hdf5\n",
      "Epoch 48/50\n",
      "3184/3184 [==============================] - 26s 8ms/step - loss: 4.1435 - acc: 0.1420 - val_loss: 11.7326 - val_acc: 0.0415\n",
      "\n",
      "Epoch 00048: loss improved from 4.18684 to 4.14354, saving model to ./weights.hdf5\n",
      "Epoch 49/50\n",
      "3184/3184 [==============================] - 28s 9ms/step - loss: 4.1001 - acc: 0.1486 - val_loss: 11.8052 - val_acc: 0.0415\n",
      "\n",
      "Epoch 00049: loss improved from 4.14354 to 4.10008, saving model to ./weights.hdf5\n",
      "Epoch 50/50\n",
      "3184/3184 [==============================] - 29s 9ms/step - loss: 4.0591 - acc: 0.1467 - val_loss: 11.8682 - val_acc: 0.0452\n",
      "\n",
      "Epoch 00050: loss improved from 4.10008 to 4.05908, saving model to ./weights.hdf5\n"
     ]
    }
   ],
   "source": [
    "model.compile(optimizer = 'adam', loss = 'categorical_crossentropy', metrics = ['acc'])\n",
    "\n",
    "filepath = \"./weights.hdf5\"\n",
    "checkpoint = ModelCheckpoint(filepath, monitor = 'loss', verbose = 1, save_best_only = True, mode = 'min')\n",
    "callbacks = [checkpoint]\n",
    "\n",
    "hist = model.fit(trainX, trainy, epochs = 50, batch_size = 128, verbose = 1, callbacks = callbacks, validation_split=0.2)"
   ]
  },
  {
   "cell_type": "code",
   "execution_count": 66,
   "metadata": {},
   "outputs": [
    {
     "data": {
      "image/png": "[encoded data removed]",
      "text/plain": [
       "<Figure size 432x288 with 1 Axes>"
      ]
     },
     "metadata": {
      "needs_background": "light"
     },
     "output_type": "display_data"
    }
   ],
   "source": [
    "plt.plot(hist.history['loss'])\n",
    "plt.title('Model train loss')\n",
    "plt.ylabel('Loss')\n",
    "plt.xlabel('Epoch')\n",
    "plt.legend(['Train', 'Validation'], loc='upper right')\n",
    "plt.show()"
   ]
  },
  {
   "cell_type": "code",
   "execution_count": 67,
   "metadata": {},
   "outputs": [],
   "source": [
    "# Loading weights from a checkpoint\n",
    "\n",
    "filename = \"weights.hdf5\"\n",
    "model.load_weights(filename)\n",
    "model.compile(loss = 'categorical_crossentropy', optimizer = 'adam')\n"
   ]
  },
  {
   "cell_type": "code",
   "execution_count": 68,
   "metadata": {},
   "outputs": [],
   "source": [
    "def generate_words(seed_text, num_words, model, max_seq_len = 20):\n",
    "    for i in range(num_words):\n",
    "        token_list = tokenizer.texts_to_sequences([seed_text])[0]\n",
    "        token_list = pad_sequences([token_list], maxlen = max_seq_len, padding = 'pre')\n",
    "        \n",
    "        predicted = model.predict_classes(token_list, verbose = 0)\n",
    "        output_word = ''\n",
    "        for word, index in tokenizer.word_index.items():\n",
    "            if index == predicted:\n",
    "                output_word = word\n",
    "                break\n",
    "                \n",
    "        seed_text = seed_text + \" \" + output_word\n",
    "        \n",
    "    return seed_text.title()"
   ]
  },
  {
   "cell_type": "code",
   "execution_count": 69,
   "metadata": {},
   "outputs": [
    {
     "name": "stdout",
     "output_type": "stream",
     "text": [
      "Man In Black The Local Village And Old\n"
     ]
    }
   ],
   "source": [
    "print(generate_words(\"man in black\", 5, model))"
   ]
  },
  {
   "cell_type": "code",
   "execution_count": null,
   "metadata": {},
   "outputs": [],
   "source": []
  }
 ],
 "metadata": {
  "kernelspec": {
   "display_name": "Python 3",
   "language": "python",
   "name": "python3"
  },
  "language_info": {
   "codemirror_mode": {
    "name": "ipython",
    "version": 3
   },
   "file_extension": ".py",
   "mimetype": "text/x-python",
   "name": "python",
   "nbconvert_exporter": "python",
   "pygments_lexer": "ipython3",
   "version": "3.6.9"
  }
 },
 "nbformat": 4,
 "nbformat_minor": 4
}
