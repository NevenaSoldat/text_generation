{
  "nbformat": 4,
  "nbformat_minor": 0,
  "metadata": {
    "kernelspec": {
      "display_name": "Python 3",
      "language": "python",
      "name": "python3"
    },
    "language_info": {
      "codemirror_mode": {
        "name": "ipython",
        "version": 3
      },
      "file_extension": ".py",
      "mimetype": "text/x-python",
      "name": "python",
      "nbconvert_exporter": "python",
      "pygments_lexer": "ipython3",
      "version": "3.6.9"
    },
    "colab": {
      "name": "text_generation.ipynb",
      "provenance": []
    },
    "accelerator": "GPU"
  },
  "cells": [
    {
      "cell_type": "markdown",
      "metadata": {
        "id": "0ASguwNGghE7",
        "colab_type": "text"
      },
      "source": [
        "# Text generation\n",
        "\n",
        "The goal of this project is to demonstrate text generation using LSTM neural networks.\n",
        "Our database contains numerous movie plots taken from Wikipedia, so we will generate something similiar."
      ]
    },
    {
      "cell_type": "code",
      "metadata": {
        "id": "AewcP0VHghE-",
        "colab_type": "code",
        "colab": {}
      },
      "source": [
        "import tensorflow as tf\n",
        "import pandas as pd\n",
        "import numpy as np\n",
        "from sklearn.feature_extraction.text import CountVectorizer\n",
        "from keras.utils import to_categorical\n",
        "from keras.preprocessing.sequence import pad_sequences\n",
        "from keras.layers import LSTM, Dense, Dropout, Embedding\n",
        "from keras.models import Sequential\n",
        "import random \n",
        "import matplotlib.pyplot as plt\n",
        "import warnings\n",
        "import os, multiprocessing\n",
        "\n",
        "warnings.filterwarnings(\"ignore\")\n",
        "warnings.simplefilter(action='ignore', category=FutureWarning)\n"
      ],
      "execution_count": 0,
      "outputs": []
    },
    {
      "cell_type": "code",
      "metadata": {
        "id": "OeUWuV39ghFJ",
        "colab_type": "code",
        "outputId": "98a17d5a-9bf7-4d75-98a6-f30afddecb3d",
        "colab": {
          "base_uri": "https://localhost:8080/",
          "height": 68
        }
      },
      "source": [
        "# Computer characteristics\n",
        "\n",
        "mem_bytes = os.sysconf('SC_PAGE_SIZE') * os.sysconf('SC_PHYS_PAGES')\n",
        "mem_gib = mem_bytes / (1024.**3)\n",
        "print(\"Computer characteristics: \")\n",
        "print(\"RAM: %f GB\" % mem_gib)\n",
        "print(\"CORES: %d\" % multiprocessing.cpu_count())\n"
      ],
      "execution_count": 167,
      "outputs": [
        {
          "output_type": "stream",
          "text": [
            "Computer characteristics: \n",
            "RAM: 12.715870 GB\n",
            "CORES: 2\n"
          ],
          "name": "stdout"
        }
      ]
    },
    {
      "cell_type": "code",
      "metadata": {
        "id": "UNlPxu_8iK9o",
        "colab_type": "code",
        "outputId": "4a2521d5-8ce1-45f0-879e-6d194b4fa8b1",
        "colab": {
          "base_uri": "https://localhost:8080/",
          "height": 34
        }
      },
      "source": [
        "from google.colab import drive \n",
        "\n",
        "drive.mount('/content/drive')"
      ],
      "execution_count": 0,
      "outputs": [
        {
          "output_type": "stream",
          "text": [
            "Drive already mounted at /content/drive; to attempt to forcibly remount, call drive.mount(\"/content/drive\", force_remount=True).\n"
          ],
          "name": "stdout"
        }
      ]
    },
    {
      "cell_type": "code",
      "metadata": {
        "id": "iRgMfvhcghFT",
        "colab_type": "code",
        "outputId": "bfc50790-6459-4925-ff37-0e1fdfef23e8",
        "colab": {
          "base_uri": "https://localhost:8080/",
          "height": 122
        }
      },
      "source": [
        "data = pd.read_csv(\"/content/drive/My Drive/Colab/movie_plots.csv\")\n",
        "\n",
        "movie_plots = data['Plot']\n",
        "\n",
        "def count_words(text):\n",
        "    return len(text.split())\n",
        "\n",
        "print(\"Max movie plot len: \", movie_plots.map(count_words).max())\n",
        "print(\"Min movie plot len: \", movie_plots.map(count_words).min())\n",
        "\n",
        "\n",
        "# zadrzavamo samo opise sa vise od 300 reci\n",
        "movie_plots = movie_plots[movie_plots.map(count_words) > 99]\n",
        "print(\"Min movie plot len: \", movie_plots.map(count_words).min())\n",
        "# i zadrzavamo sve koji imaju manje od 500 reci\n",
        "movie_plots = movie_plots[movie_plots.map(count_words) < 301]\n",
        "print(\"Max movie plot len: \", movie_plots.map(count_words).max())\n",
        "\n",
        "all_plots = list(movie_plots.values)\n",
        "# setting a seed so we get the same result every time\n",
        "random.seed(64)\n",
        "sample = random.sample(all_plots, 150)\n",
        "sample[0]"
      ],
      "execution_count": 168,
      "outputs": [
        {
          "output_type": "stream",
          "text": [
            "Max movie plot len:  6752\n",
            "Min movie plot len:  2\n",
            "Min movie plot len:  100\n",
            "Max movie plot len:  300\n"
          ],
          "name": "stdout"
        },
        {
          "output_type": "execute_result",
          "data": {
            "text/plain": [
              "\"Preeti Sengupta (Tanushree Dutta) is an air hostess living with her boyfriend Karan Malhotra (Rohit Roy). They share a nice 2BHK apartment in the northern suburbs of Mumbai and are befriended by their elderly neighbor Madhusudan Tanha (Anupam Kher), a struggling poet and lyricist. Tanha is a loner living with his only companion, a Persian cat whom he lovingly calls Shehzadi.\\r\\nPreeti is possessive and has issues with trust. When she mistakenly suspects her boyfriend to be unfaithful, she throws him out of the house, but soon realizes she can't afford the apartment rent on her own. On the advice of a fellow airhostess, she advertises for a tenant to share her apartment. Enter Neha Bhardwaj (Neetu Chandra), a modest small-town girl asking for accommodation. Very impressed by her simplicity and respectfulness, Preeti believes she has found a perfect roommate. The two girls soon become close - their camaraderie leads them to become companions.\\r\\nThen things begin to go disastrously wrong - slowly and steadily. Preeti's seemingly normal life is thrown off gear - with a series of incidents that take her by surprise. Is it just coincidence or is someone deliberately causing all the trouble? Is Neha really as simple as she seems? In the grip of mystery, unforeseen and gruesome events and murder as its heinous best, the truth seems shocking as it unfolds. As Neha and Preeti are torn apart by suspicion, deceit and betrayal, the question is - what is really going on?\""
            ]
          },
          "metadata": {
            "tags": []
          },
          "execution_count": 168
        }
      ]
    },
    {
      "cell_type": "markdown",
      "metadata": {
        "id": "Ng06Y2N0ghFa",
        "colab_type": "text"
      },
      "source": [
        "## Tokenize words\n",
        "\n",
        "Tokenization is turning unique words into unique integers. This step is necessary for preparing data for embedding layer."
      ]
    },
    {
      "cell_type": "code",
      "metadata": {
        "id": "bif6GsaPkLGZ",
        "colab_type": "code",
        "colab": {
          "base_uri": "https://localhost:8080/",
          "height": 122
        },
        "outputId": "ef983363-3f59-450b-df3c-a75f1abb82f6"
      },
      "source": [
        "from google.colab import drive\n",
        "drive.mount('/content/drive')"
      ],
      "execution_count": 4,
      "outputs": [
        {
          "output_type": "stream",
          "text": [
            "Go to this URL in a browser: https://accounts.google.com/o/oauth2/auth?client_id=947318989803-6bn6qk8qdgf4n4g3pfee6491hc0brc4i.apps.googleusercontent.com&redirect_uri=urn%3aietf%3awg%3aoauth%3a2.0%3aoob&response_type=code&scope=email%20https%3a%2f%2fwww.googleapis.com%2fauth%2fdocs.test%20https%3a%2f%2fwww.googleapis.com%2fauth%2fdrive%20https%3a%2f%2fwww.googleapis.com%2fauth%2fdrive.photos.readonly%20https%3a%2f%2fwww.googleapis.com%2fauth%2fpeopleapi.readonly\n",
            "\n",
            "Enter your authorization code:\n",
            "··········\n",
            "Mounted at /content/drive\n"
          ],
          "name": "stdout"
        }
      ]
    },
    {
      "cell_type": "code",
      "metadata": {
        "id": "9ZUUktw4kQEt",
        "colab_type": "code",
        "colab": {}
      },
      "source": [
        ""
      ],
      "execution_count": 0,
      "outputs": []
    },
    {
      "cell_type": "code",
      "metadata": {
        "id": "thrAcVF0ghFc",
        "colab_type": "code",
        "outputId": "9462b3a0-4b05-4258-a193-706c60792866",
        "colab": {
          "base_uri": "https://localhost:8080/",
          "height": 272
        }
      },
      "source": [
        "from keras.preprocessing.text import Tokenizer\n",
        "\n",
        "max_words = 5000\n",
        "tokenizer = Tokenizer(num_words = max_words)\n",
        "tokenizer.fit_on_texts(sample)\n",
        "\n",
        "reverse_word_map = dict(map(reversed, tokenizer.word_index.items()))\n",
        "\n",
        "\n",
        "sequences = tokenizer.texts_to_sequences(sample)\n",
        "sequences_len = 200\n",
        "sequences = pad_sequences(sequences, maxlen = sequences_len, truncating = 'post')\n",
        "\n",
        "\n",
        "sequences.shape\n",
        "print(sequences[0])"
      ],
      "execution_count": 169,
      "outputs": [
        {
          "output_type": "stream",
          "text": [
            "[ 850 2770 2771 1663    6   23 1664 2772  354   10   11  564 2773 2774\n",
            "  185 1148   26  700    4 2775 2776  462    7    1 1149 2777    5 1665\n",
            "    3   28 1666   13   25 1150 1667 2778 1668 1669 1670    4  463 2779\n",
            "    3 2780 1668    6    4 2781  354   10    8   71 1671    4 2782  464\n",
            "  174    9 2783  465 2784   17  850    6 1672    3   27 2785   10  701\n",
            "   22   16 1673  702   11  564    2   36 2786   16  703   20   33    5\n",
            "    1  109   21  135  403   16  851 1674    1  462 1675   19   11   79\n",
            "   19    1 1151    5    4 1676 2787   16 2788   12    4 1152    2  700\n",
            "   11  462  565 1153 2789 2790 2791    4 2792  355  151   87 1154   12\n",
            " 2793  162 1155   13   11 2794    3 2795  850  276   16   27  219    4\n",
            " 1677 1678    1   53  202  135  104  466   25 2796  203   38    2  104\n",
            " 2797   17   42  246  247    2   98 2798  220 2799    3 1679 2800 2801\n",
            "  566   50    6 1680   99 1681   10    4  248    5 2802   15   75   11\n",
            "   13 1156    6   29   88 2803  175    6  852 2804 1157   46    1  853\n",
            "    6 1153 1682   18]\n"
          ],
          "name": "stdout"
        }
      ]
    },
    {
      "cell_type": "code",
      "metadata": {
        "id": "mbx2g0DtghFh",
        "colab_type": "code",
        "outputId": "aa353ea0-500a-4c3a-a70c-b0e80ad5646a",
        "colab": {
          "base_uri": "https://localhost:8080/",
          "height": 51
        }
      },
      "source": [
        "# making a single list of tokens so we can apply sliding windows\n",
        "\n",
        "text = [item for sublist in sequences for item in sublist]\n",
        "print(\"Corpus size: \", len(text))\n",
        "vocab_size = len(tokenizer.word_index)\n",
        "print(\"Vocabulary size: \", vocab_size+1)\n"
      ],
      "execution_count": 170,
      "outputs": [
        {
          "output_type": "stream",
          "text": [
            "Corpus size:  30000\n",
            "Vocabulary size:  6484\n"
          ],
          "name": "stdout"
        }
      ]
    },
    {
      "cell_type": "code",
      "metadata": {
        "id": "syChfpodghFm",
        "colab_type": "code",
        "colab": {}
      },
      "source": [
        "# reverse dictionary so we can decode tokenized sequences back to words\n",
        "\n",
        "reverse_word_map = dict(map(reversed, tokenizer.word_index.items()))\n"
      ],
      "execution_count": 0,
      "outputs": []
    },
    {
      "cell_type": "markdown",
      "metadata": {
        "id": "NOzbNSXmghFq",
        "colab_type": "text"
      },
      "source": [
        "### Splitting the data for input and output values\n",
        "\n",
        "Input sequence has the size of 4 words, and output is the next word"
      ]
    },
    {
      "cell_type": "code",
      "metadata": {
        "id": "hwDq2jllghFq",
        "colab_type": "code",
        "outputId": "ef0a1a7b-b83d-4cf5-fed8-b59b7fdeee55",
        "colab": {
          "base_uri": "https://localhost:8080/",
          "height": 34
        }
      },
      "source": [
        "seq_len = 4\n",
        "\n",
        "dataX = []\n",
        "dataY = []\n",
        "\n",
        "for i in range(len(text)-seq_len):\n",
        "    seq_in = text[i:i+seq_len]\n",
        "    seq_out = text[i+seq_len]\n",
        "    dataX.append(seq_in)\n",
        "    dataY.append(seq_out)\n",
        "    \n",
        "    \n",
        "lenX = len(dataX)\n",
        "print(lenX)"
      ],
      "execution_count": 172,
      "outputs": [
        {
          "output_type": "stream",
          "text": [
            "29996\n"
          ],
          "name": "stdout"
        }
      ]
    },
    {
      "cell_type": "code",
      "metadata": {
        "id": "IiOg4LgTghFu",
        "colab_type": "code",
        "colab": {}
      },
      "source": [
        "from keras.utils import np_utils\n",
        "\n",
        "dataX = np.asarray(dataX)\n",
        "dataY = np_utils.to_categorical(dataY)"
      ],
      "execution_count": 0,
      "outputs": []
    },
    {
      "cell_type": "markdown",
      "metadata": {
        "id": "ocZNlproghFx",
        "colab_type": "text"
      },
      "source": [
        "### Split into train and test set"
      ]
    },
    {
      "cell_type": "code",
      "metadata": {
        "id": "MRX07W81ghFy",
        "colab_type": "code",
        "outputId": "417525a4-bcf4-4ee3-e9b4-87423de7086b",
        "colab": {
          "base_uri": "https://localhost:8080/",
          "height": 85
        }
      },
      "source": [
        "from sklearn.model_selection import train_test_split\n",
        "\n",
        "\n",
        "trainX, testX, trainy, testy = train_test_split(dataX, dataY, test_size = 0.2)\n",
        "print(trainX.shape)\n",
        "print(testX.shape)\n",
        "print(trainy.shape)\n",
        "print(testy.shape)"
      ],
      "execution_count": 174,
      "outputs": [
        {
          "output_type": "stream",
          "text": [
            "(23996, 4)\n",
            "(6000, 4)\n",
            "(23996, 5000)\n",
            "(6000, 5000)\n"
          ],
          "name": "stdout"
        }
      ]
    },
    {
      "cell_type": "markdown",
      "metadata": {
        "id": "FsYFe8zCghF2",
        "colab_type": "text"
      },
      "source": [
        "### Creating a model"
      ]
    },
    {
      "cell_type": "code",
      "metadata": {
        "id": "sFTQkRDGghF3",
        "colab_type": "code",
        "outputId": "15430a5e-be7c-4a98-e4c5-98d2f7403aae",
        "colab": {
          "base_uri": "https://localhost:8080/",
          "height": 425
        }
      },
      "source": [
        "import keras\n",
        "from keras.layers import LSTM, Dense, Embedding, Dropout\n",
        "from keras.models import Sequential\n",
        "from keras.callbacks import ModelCheckpoint\n",
        "\n",
        "model = Sequential()\n",
        "model.add(Embedding(vocab_size+1, 32, input_length = trainX.shape[1]))\n",
        "model.add(LSTM(50, return_sequences = True))\n",
        "model.add(Dropout(0.2))\n",
        "model.add(LSTM(200, return_sequences = True))\n",
        "model.add(Dropout(0.2))\n",
        "model.add(LSTM(250))\n",
        "model.add(Dropout(0.2))\n",
        "model.add(Dense(trainy.shape[1], activation = 'softmax'))\n",
        "\n",
        "model.summary()"
      ],
      "execution_count": 175,
      "outputs": [
        {
          "output_type": "stream",
          "text": [
            "Model: \"sequential_15\"\n",
            "_________________________________________________________________\n",
            "Layer (type)                 Output Shape              Param #   \n",
            "=================================================================\n",
            "embedding_15 (Embedding)     (None, 4, 32)             207488    \n",
            "_________________________________________________________________\n",
            "lstm_34 (LSTM)               (None, 4, 50)             16600     \n",
            "_________________________________________________________________\n",
            "dropout_27 (Dropout)         (None, 4, 50)             0         \n",
            "_________________________________________________________________\n",
            "lstm_35 (LSTM)               (None, 4, 200)            200800    \n",
            "_________________________________________________________________\n",
            "dropout_28 (Dropout)         (None, 4, 200)            0         \n",
            "_________________________________________________________________\n",
            "lstm_36 (LSTM)               (None, 250)               451000    \n",
            "_________________________________________________________________\n",
            "dropout_29 (Dropout)         (None, 250)               0         \n",
            "_________________________________________________________________\n",
            "dense_10 (Dense)             (None, 5000)              1255000   \n",
            "=================================================================\n",
            "Total params: 2,130,888\n",
            "Trainable params: 2,130,888\n",
            "Non-trainable params: 0\n",
            "_________________________________________________________________\n"
          ],
          "name": "stdout"
        }
      ]
    },
    {
      "cell_type": "code",
      "metadata": {
        "id": "lneG32aDghF6",
        "colab_type": "code",
        "outputId": "be6a5362-5b80-43ad-ffeb-8ded1786ece2",
        "colab": {
          "base_uri": "https://localhost:8080/",
          "height": 1000
        }
      },
      "source": [
        "model.compile(optimizer = 'adam', loss = 'categorical_crossentropy', metrics = ['acc'])\n",
        "\n",
        "filepath = \"./20e100n.hdf5\"\n",
        "checkpoint = ModelCheckpoint(filepath, monitor = 'loss', \n",
        "                             verbose = 1, save_best_only = True, mode = 'min')\n",
        "callbacks = [checkpoint]\n",
        "\n",
        "hist = model.fit(trainX, trainy, epochs = 20, batch_size = 128, \n",
        "                 verbose = 1, callbacks = callbacks, validation_split = 0.1)\n"
      ],
      "execution_count": 176,
      "outputs": [
        {
          "output_type": "stream",
          "text": [
            "Train on 21596 samples, validate on 2400 samples\n",
            "Epoch 1/20\n",
            "21596/21596 [==============================] - 6s 274us/step - loss: 6.3259 - acc: 0.1756 - val_loss: 5.8479 - val_acc: 0.2075\n",
            "\n",
            "Epoch 00001: loss improved from inf to 6.32593, saving model to ./20e100n.hdf5\n",
            "Epoch 2/20\n",
            "21596/21596 [==============================] - 5s 229us/step - loss: 5.6296 - acc: 0.2079 - val_loss: 5.8924 - val_acc: 0.2125\n",
            "\n",
            "Epoch 00002: loss improved from 6.32593 to 5.62961, saving model to ./20e100n.hdf5\n",
            "Epoch 3/20\n",
            "21596/21596 [==============================] - 5s 229us/step - loss: 5.5404 - acc: 0.2104 - val_loss: 5.9311 - val_acc: 0.2129\n",
            "\n",
            "Epoch 00003: loss improved from 5.62961 to 5.54039, saving model to ./20e100n.hdf5\n",
            "Epoch 4/20\n",
            "21596/21596 [==============================] - 5s 229us/step - loss: 5.4944 - acc: 0.2106 - val_loss: 5.9919 - val_acc: 0.2129\n",
            "\n",
            "Epoch 00004: loss improved from 5.54039 to 5.49439, saving model to ./20e100n.hdf5\n",
            "Epoch 5/20\n",
            "21596/21596 [==============================] - 5s 226us/step - loss: 5.4516 - acc: 0.2102 - val_loss: 6.0599 - val_acc: 0.2121\n",
            "\n",
            "Epoch 00005: loss improved from 5.49439 to 5.45161, saving model to ./20e100n.hdf5\n",
            "Epoch 6/20\n",
            "21596/21596 [==============================] - 5s 230us/step - loss: 5.3941 - acc: 0.2104 - val_loss: 6.0749 - val_acc: 0.2054\n",
            "\n",
            "Epoch 00006: loss improved from 5.45161 to 5.39408, saving model to ./20e100n.hdf5\n",
            "Epoch 7/20\n",
            "21596/21596 [==============================] - 5s 227us/step - loss: 5.2993 - acc: 0.2126 - val_loss: 6.1524 - val_acc: 0.2087\n",
            "\n",
            "Epoch 00007: loss improved from 5.39408 to 5.29934, saving model to ./20e100n.hdf5\n",
            "Epoch 8/20\n",
            "21596/21596 [==============================] - 5s 226us/step - loss: 5.1721 - acc: 0.2185 - val_loss: 6.1300 - val_acc: 0.2138\n",
            "\n",
            "Epoch 00008: loss improved from 5.29934 to 5.17206, saving model to ./20e100n.hdf5\n",
            "Epoch 9/20\n",
            "21596/21596 [==============================] - 5s 230us/step - loss: 5.0424 - acc: 0.2241 - val_loss: 6.2583 - val_acc: 0.2138\n",
            "\n",
            "Epoch 00009: loss improved from 5.17206 to 5.04239, saving model to ./20e100n.hdf5\n",
            "Epoch 10/20\n",
            "21596/21596 [==============================] - 5s 224us/step - loss: 4.9166 - acc: 0.2273 - val_loss: 6.3204 - val_acc: 0.2142\n",
            "\n",
            "Epoch 00010: loss improved from 5.04239 to 4.91662, saving model to ./20e100n.hdf5\n",
            "Epoch 11/20\n",
            "21596/21596 [==============================] - 5s 230us/step - loss: 4.7871 - acc: 0.2307 - val_loss: 6.4495 - val_acc: 0.2133\n",
            "\n",
            "Epoch 00011: loss improved from 4.91662 to 4.78709, saving model to ./20e100n.hdf5\n",
            "Epoch 12/20\n",
            "21596/21596 [==============================] - 5s 229us/step - loss: 4.6647 - acc: 0.2330 - val_loss: 6.5183 - val_acc: 0.2158\n",
            "\n",
            "Epoch 00012: loss improved from 4.78709 to 4.66467, saving model to ./20e100n.hdf5\n",
            "Epoch 13/20\n",
            "21596/21596 [==============================] - 5s 227us/step - loss: 4.5314 - acc: 0.2355 - val_loss: 6.5639 - val_acc: 0.2138\n",
            "\n",
            "Epoch 00013: loss improved from 4.66467 to 4.53141, saving model to ./20e100n.hdf5\n",
            "Epoch 14/20\n",
            "21596/21596 [==============================] - 5s 230us/step - loss: 4.4001 - acc: 0.2369 - val_loss: 6.6700 - val_acc: 0.2108\n",
            "\n",
            "Epoch 00014: loss improved from 4.53141 to 4.40013, saving model to ./20e100n.hdf5\n",
            "Epoch 15/20\n",
            "21596/21596 [==============================] - 5s 227us/step - loss: 4.2681 - acc: 0.2419 - val_loss: 6.7247 - val_acc: 0.2154\n",
            "\n",
            "Epoch 00015: loss improved from 4.40013 to 4.26808, saving model to ./20e100n.hdf5\n",
            "Epoch 16/20\n",
            "21596/21596 [==============================] - 5s 234us/step - loss: 4.1375 - acc: 0.2456 - val_loss: 6.8536 - val_acc: 0.2125\n",
            "\n",
            "Epoch 00016: loss improved from 4.26808 to 4.13746, saving model to ./20e100n.hdf5\n",
            "Epoch 17/20\n",
            "21596/21596 [==============================] - 5s 232us/step - loss: 4.0063 - acc: 0.2521 - val_loss: 6.8786 - val_acc: 0.2104\n",
            "\n",
            "Epoch 00017: loss improved from 4.13746 to 4.00633, saving model to ./20e100n.hdf5\n",
            "Epoch 18/20\n",
            "21596/21596 [==============================] - 5s 235us/step - loss: 3.8826 - acc: 0.2561 - val_loss: 6.9566 - val_acc: 0.2075\n",
            "\n",
            "Epoch 00018: loss improved from 4.00633 to 3.88256, saving model to ./20e100n.hdf5\n",
            "Epoch 19/20\n",
            "21596/21596 [==============================] - 5s 230us/step - loss: 3.7642 - acc: 0.2638 - val_loss: 7.0275 - val_acc: 0.2100\n",
            "\n",
            "Epoch 00019: loss improved from 3.88256 to 3.76423, saving model to ./20e100n.hdf5\n",
            "Epoch 20/20\n",
            "21596/21596 [==============================] - 5s 227us/step - loss: 3.6537 - acc: 0.2724 - val_loss: 7.0971 - val_acc: 0.2092\n",
            "\n",
            "Epoch 00020: loss improved from 3.76423 to 3.65367, saving model to ./20e100n.hdf5\n"
          ],
          "name": "stdout"
        }
      ]
    },
    {
      "cell_type": "code",
      "metadata": {
        "id": "5zFN2mMhghF9",
        "colab_type": "code",
        "colab": {}
      },
      "source": [
        "filename = \"20e100n.hdf5\"\n",
        "model.load_weights(filename)\n",
        "model.compile(loss = 'categorical_crossentropy', optimizer = 'adam', metrics = ['acc'])\n"
      ],
      "execution_count": 0,
      "outputs": []
    },
    {
      "cell_type": "code",
      "metadata": {
        "id": "FrD7odYGghF_",
        "colab_type": "code",
        "outputId": "b65520ca-c203-46b1-8411-38e40b246387",
        "colab": {
          "base_uri": "https://localhost:8080/",
          "height": 68
        }
      },
      "source": [
        "# Evaluate model on test set (accuracy and error)\n",
        "\n",
        "results = model.evaluate(testX, testy, batch_size = 128)\n",
        "print('Loss: %.2f'% results[0])\n",
        "print('Accuracy: %.2f'%(results[1]*100), \"%\")"
      ],
      "execution_count": 178,
      "outputs": [
        {
          "output_type": "stream",
          "text": [
            "6000/6000 [==============================] - 0s 69us/step\n",
            "Loss: 7.18\n",
            "Accuracy: 21.28 %\n"
          ],
          "name": "stdout"
        }
      ]
    },
    {
      "cell_type": "markdown",
      "metadata": {
        "id": "eVbvwZMrghGF",
        "colab_type": "text"
      },
      "source": [
        "###Model accuracy"
      ]
    },
    {
      "cell_type": "code",
      "metadata": {
        "id": "1XipdKfughGG",
        "colab_type": "code",
        "outputId": "598c4a3e-19d2-4dd0-c9cc-83355c7d4189",
        "colab": {
          "base_uri": "https://localhost:8080/",
          "height": 295
        }
      },
      "source": [
        "plt.plot(hist.history[\"acc\"])\n",
        "plt.plot(hist.history[\"val_acc\"])\n",
        "plt.title('Model accuracy: ')\n",
        "plt.legend(['Train', 'Validation'], loc='best')\n",
        "plt.ylabel(\"Accuracy\")\n",
        "plt.xlabel(\"Epoch\")\n",
        "plt.show()"
      ],
      "execution_count": 179,
      "outputs": [
        {
          "output_type": "display_data",
          "data": {
            "image/png": "[encoded data removed]",
            "text/plain": [
              "<Figure size 432x288 with 1 Axes>"
            ]
          },
          "metadata": {
            "tags": [],
            "needs_background": "light"
          }
        }
      ]
    },
    {
      "cell_type": "markdown",
      "metadata": {
        "id": "cubyNZUsghGJ",
        "colab_type": "text"
      },
      "source": [
        "### Model loss"
      ]
    },
    {
      "cell_type": "code",
      "metadata": {
        "id": "ciTcWwBxghGM",
        "colab_type": "code",
        "outputId": "0285fa1f-9c04-49d0-9594-045655b843b4",
        "colab": {
          "base_uri": "https://localhost:8080/",
          "height": 295
        }
      },
      "source": [
        "plt.plot(hist.history[\"loss\"])\n",
        "plt.plot(hist.history[\"val_loss\"])\n",
        "plt.title('Model loss: ')\n",
        "plt.legend(['Train', 'Validation'], loc='best')\n",
        "plt.ylabel(\"Loss\")\n",
        "plt.xlabel(\"Epoch\")\n",
        "plt.show()"
      ],
      "execution_count": 180,
      "outputs": [
        {
          "output_type": "display_data",
          "data": {
            "image/png": "[encoded data removed]",
            "text/plain": [
              "<Figure size 432x288 with 1 Axes>"
            ]
          },
          "metadata": {
            "tags": [],
            "needs_background": "light"
          }
        }
      ]
    },
    {
      "cell_type": "code",
      "metadata": {
        "id": "fkXNaNfJghGQ",
        "colab_type": "code",
        "colab": {}
      },
      "source": [
        "def generate_words(seed_text, num_words, model, max_seq_len = 4):\n",
        "    for i in range(num_words):\n",
        "        token_list = tokenizer.texts_to_sequences([seed_text])[0]\n",
        "        token_list = pad_sequences([token_list], maxlen = max_seq_len, padding = 'pre')\n",
        "        \n",
        "        predicted = model.predict_classes(token_list, verbose = 0)\n",
        "        output_word = ''\n",
        "        for word, index in tokenizer.word_index.items():\n",
        "            if index == predicted:\n",
        "                output_word = word\n",
        "                break\n",
        "                \n",
        "        seed_text = seed_text + \" \" + output_word\n",
        "        \n",
        "    return seed_text.title()"
      ],
      "execution_count": 0,
      "outputs": []
    },
    {
      "cell_type": "code",
      "metadata": {
        "id": "2lyYz9rAghGS",
        "colab_type": "code",
        "outputId": "e7fedf74-a350-44d4-c2bd-7fcc9e372d7c",
        "colab": {
          "base_uri": "https://localhost:8080/",
          "height": 54
        }
      },
      "source": [
        "print(generate_words(\"The movie is about\", 20, model))"
      ],
      "execution_count": 182,
      "outputs": [
        {
          "output_type": "stream",
          "text": [
            "The Movie Is About A New Woman And Howard Denmark A Goldberg Disaster Ignorance And Or 4 Guilt In The Film Of The Successful\n"
          ],
          "name": "stdout"
        }
      ]
    },
    {
      "cell_type": "code",
      "metadata": {
        "id": "4fpFrXxd1TZ5",
        "colab_type": "code",
        "colab": {}
      },
      "source": [
        ""
      ],
      "execution_count": 0,
      "outputs": []
    }
  ]
}