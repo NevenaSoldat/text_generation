{
 "cells": [
  {
   "cell_type": "markdown",
   "metadata": {},
   "source": [
    "# Text generation\n",
    "\n",
    "The goal of this project is to demonstrate text generation using LSTM neural networks.\n",
    "Our database contains numerous movie plots taken from Wikipedia, so we will generate something similiar."
   ]
  },
  {
   "cell_type": "code",
   "execution_count": 58,
   "metadata": {},
   "outputs": [],
   "source": [
    "import tensorflow as tf\n",
    "import pandas as pd\n",
    "import numpy as np\n",
    "from sklearn.feature_extraction.text import CountVectorizer\n",
    "from keras.utils import to_categorical\n",
    "from keras.preprocessing.sequence import pad_sequences\n",
    "from keras.layers import LSTM, Dense, Dropout, Embedding\n",
    "from keras.models import Sequential\n",
    "import random \n",
    "import matplotlib.pyplot as plt\n",
    "import warnings\n",
    "import os, multiprocessing\n",
    "\n",
    "warnings.filterwarnings(\"ignore\")\n",
    "warnings.simplefilter(action='ignore', category=FutureWarning)\n"
   ]
  },
  {
   "cell_type": "code",
   "execution_count": 59,
   "metadata": {},
   "outputs": [
    {
     "name": "stdout",
     "output_type": "stream",
     "text": [
      "Computer characteristics: \n",
      "RAM: 7.653069 GB\n",
      "CORES: 4\n"
     ]
    }
   ],
   "source": [
    "# Computer characteristics\n",
    "\n",
    "mem_bytes = os.sysconf('SC_PAGE_SIZE') * os.sysconf('SC_PHYS_PAGES')\n",
    "mem_gib = mem_bytes / (1024.**3)\n",
    "print(\"Computer characteristics: \")\n",
    "print(\"RAM: %f GB\" % mem_gib)\n",
    "print(\"CORES: %d\" % multiprocessing.cpu_count())\n"
   ]
  },
  {
   "cell_type": "code",
   "execution_count": 60,
   "metadata": {},
   "outputs": [
    {
     "name": "stdout",
     "output_type": "stream",
     "text": [
      "Max movie plot len:  36773\n",
      "Min movie plot len:  15\n"
     ]
    },
    {
     "data": {
      "text/plain": [
       "'United States Air Force Colonel William Hughes (Paul Kelly) asks Major Paul Peterson (John Payne), who has been called back to active service, to join a team at the Air Research and Development Command conducting tests on a downward ejection seat for bombardiers in the new Boeing B-47 Stratojet bomber. The first tests used articulated dummies, but human test subjects are needed. Besides Colonel Hughes, German scientist Dr. Franz Gruener (Gregory Gaye), also is in charge of the test program, working directly with the test subjects. Captain Jack Nolan (Richard Crane) is also assigned to the project.\\r\\nThe first volunteer, Captain Mike Cavallero (Eddie Firestone), suffers a broken neck when his parachute opens too early. He survives the test but is hospitalized. The next subject is Lieutenant Edward Simmons, to be followed by Paul. When Mike is suddenly rushed to hospital with an appendicitis attack, Paul moves up. Worried because he has a wife and son, Paul is reluctant to go, but then finds out that Captain Nolan has been killed in a B-47 crash, and as the bombardier, he might not have been able to escape the aircraft.\\r\\nHis wife (Karen Steele) begs his commanding officer to release Paul from his commitment. When Paul shows up to take the test, he finds Colonel Hughes suiting up. Imploring him to reconsider, Paul makes the case for doing the test to prove that a bailout is possible from the high-speed jet bomber. Flying with Dr. Gruener, Paul ejects, but when the ground observers ask him to indicate he is well by spread-eagling, he does not respond. On board the rescue launch, they pick up Paul and find he is fine; he was simply concentrating so hard that he forgot to spread-eagle. After he is cleared by the medics, Paul is greeted by Carol and his son Kit (Richard Eyer) and, with their blessing, decides to continue with the project.'"
      ]
     },
     "execution_count": 60,
     "metadata": {},
     "output_type": "execute_result"
    }
   ],
   "source": [
    "data = pd.read_csv(\"movie_plots.csv\")\n",
    "\n",
    "movie_plots = data['Plot']\n",
    "print(\"Max movie plot len: \", movie_plots.map(len).max())\n",
    "print(\"Min movie plot len: \", movie_plots.map(len).min())\n",
    "\n",
    "all_plots = list(movie_plots.values)\n",
    "# setting a seed so we get the same result every time\n",
    "random.seed(42)\n",
    "sample = random.sample(all_plots, 100)\n",
    "sample[6]"
   ]
  },
  {
   "cell_type": "markdown",
   "metadata": {},
   "source": [
    "## Tokenize words\n",
    "\n",
    "Tokenization is turning unique words into unique integers. This step is necessary for preparing data for embedding layer."
   ]
  },
  {
   "cell_type": "code",
   "execution_count": 61,
   "metadata": {},
   "outputs": [
    {
     "name": "stdout",
     "output_type": "stream",
     "text": [
      "[[   9 3264 3265  815  472    7  104  182  815   75   25 1188    2  969\n",
      "   348 2079    2  530 3266   60  429  815    3 2080  104  116 2081 2082\n",
      "     5 2083 1513    3    4 2084  599  429    3  116 1189  182 3267   44\n",
      "   699    1  473 1190   16    1 1514    5   10  531   10 3268  816    2\n",
      "   182  238   10    3   10 1515  532 3269   53  815 3270 3271   14 1516\n",
      "   116  128   26    1  430 2085   11  182    3  533   10   30   32    1\n",
      "  1513   42    8 3272  211  815   52 2086  429  317  248    2 3273    1\n",
      "    52  970   19    1  348 2080  104  116    3  104    9  600  971  474\n",
      "   117   63   55  161   59    2  212 3274    9  318    2 2087    1 1517\n",
      "  2088  382 2089   79  183    2  601   59 3275  182    2  532    9  318\n",
      "     2 3276    1 3277 2090 1518 1517 2088    9    1  969  348   61  532\n",
      "    63  972    2  162    4 1519   20   38   43 1191    2  142   62    3\n",
      "    63   55  383    2  817    1   52  475   15 1192    7 2091   53 2092\n",
      "    30    7   88  700   42    7 3278  117  971   79  319    3  163   12\n",
      "     8   79  249   12]]\n"
     ]
    }
   ],
   "source": [
    "from keras.preprocessing.text import Tokenizer\n",
    "\n",
    "max_words = 10000\n",
    "tokenizer = Tokenizer(num_words = max_words)\n",
    "tokenizer.fit_on_texts(sample)\n",
    "\n",
    "reverse_word_map = dict(map(reversed, tokenizer.word_index.items()))\n",
    "\n",
    "\n",
    "sequences = tokenizer.texts_to_sequences(sample)\n",
    "sequences_len = 200\n",
    "sequences = pad_sequences(sequences, maxlen = sequences_len, truncating = 'post')\n",
    "\n",
    "\n",
    "sequences.shape\n",
    "print(sequences[:1])"
   ]
  },
  {
   "cell_type": "code",
   "execution_count": 62,
   "metadata": {},
   "outputs": [
    {
     "name": "stdout",
     "output_type": "stream",
     "text": [
      "Corpus size:  20000\n",
      "Vocabulary size:  7003\n"
     ]
    }
   ],
   "source": [
    "# making a single list of tokens so we can apply sliding windows\n",
    "\n",
    "text = [item for sublist in sequences for item in sublist]\n",
    "print(\"Corpus size: \", len(text))\n",
    "vocab_size = len(tokenizer.word_index)\n",
    "print(\"Vocabulary size: \", vocab_size+1)\n"
   ]
  },
  {
   "cell_type": "code",
   "execution_count": 63,
   "metadata": {},
   "outputs": [],
   "source": [
    "# reverse dictionary so we can decode tokenized sequences back to words\n",
    "\n",
    "reverse_word_map = dict(map(reversed, tokenizer.word_index.items()))\n"
   ]
  },
  {
   "cell_type": "markdown",
   "metadata": {},
   "source": [
    "### Splitting the data for input and output values\n",
    "\n",
    "Input sequence has the size of 20 words, and output is the next word"
   ]
  },
  {
   "cell_type": "code",
   "execution_count": 64,
   "metadata": {},
   "outputs": [
    {
     "name": "stdout",
     "output_type": "stream",
     "text": [
      "19980\n"
     ]
    }
   ],
   "source": [
    "seq_len = 20\n",
    "\n",
    "dataX = []\n",
    "dataY = []\n",
    "\n",
    "for i in range(len(text)-seq_len):\n",
    "    seq_in = text[i:i+seq_len]\n",
    "    seq_out = text[i+seq_len]\n",
    "    dataX.append(seq_in)\n",
    "    dataY.append(seq_out)\n",
    "  \n",
    "\n",
    "\n",
    "size = len(dataX)\n",
    "print(size)"
   ]
  },
  {
   "cell_type": "code",
   "execution_count": 65,
   "metadata": {},
   "outputs": [
    {
     "name": "stdout",
     "output_type": "stream",
     "text": [
      "[   9 3264 3265  815  472    7  104  182  815   75   25 1188    2  969\n",
      "  348 2079    2  530 3266   60]\n",
      "429\n",
      "[3264 3265  815  472    7  104  182  815   75   25 1188    2  969  348\n",
      " 2079    2  530 3266   60  429]\n",
      "815\n",
      "in 1931 lon rambeau sends his daughter elizabeth rambeau away from london to napa valley california to visit lon's father\n",
      "philippe\n",
      "1931 lon rambeau sends his daughter elizabeth rambeau away from london to napa valley california to visit lon's father philippe\n",
      "rambeau\n",
      "lon rambeau sends his daughter elizabeth rambeau away from london to napa valley california to visit lon's father philippe rambeau\n",
      "and\n"
     ]
    }
   ],
   "source": [
    "dataX = np.asarray(dataX)\n",
    "dataY = np.asarray(dataY)  \n",
    "\n",
    "print(dataX[0])\n",
    "print(dataY[0])\n",
    "print(dataX[1])\n",
    "print(dataY[1])\n",
    "\n",
    "print(\" \".join(map(lambda x : reverse_word_map[x], dataX[0])))\n",
    "print(reverse_word_map[dataY[0]])\n",
    "\n",
    "print(\" \".join(map(lambda x : reverse_word_map[x], dataX[1])))\n",
    "print(reverse_word_map[dataY[1]])\n",
    "\n",
    "print(\" \".join(map(lambda x : reverse_word_map[x], dataX[2])))\n",
    "print(reverse_word_map[dataY[2]])\n"
   ]
  },
  {
   "cell_type": "code",
   "execution_count": 66,
   "metadata": {},
   "outputs": [
    {
     "data": {
      "text/plain": [
       "(19980, 7003)"
      ]
     },
     "execution_count": 66,
     "metadata": {},
     "output_type": "execute_result"
    }
   ],
   "source": [
    "from keras.utils import np_utils\n",
    "\n",
    "trainX = dataX\n",
    "trainy = np_utils.to_categorical(dataY)\n",
    "trainy.shape"
   ]
  },
  {
   "cell_type": "markdown",
   "metadata": {},
   "source": [
    "### Creating a model"
   ]
  },
  {
   "cell_type": "code",
   "execution_count": 67,
   "metadata": {},
   "outputs": [
    {
     "name": "stdout",
     "output_type": "stream",
     "text": [
      "Model: \"sequential_4\"\n",
      "_________________________________________________________________\n",
      "Layer (type)                 Output Shape              Param #   \n",
      "=================================================================\n",
      "embedding_4 (Embedding)      (None, 20, 32)            224096    \n",
      "_________________________________________________________________\n",
      "lstm_7 (LSTM)                (None, 20, 200)           186400    \n",
      "_________________________________________________________________\n",
      "dropout_4 (Dropout)          (None, 20, 200)           0         \n",
      "_________________________________________________________________\n",
      "lstm_8 (LSTM)                (None, 200)               320800    \n",
      "_________________________________________________________________\n",
      "dense_4 (Dense)              (None, 7003)              1407603   \n",
      "=================================================================\n",
      "Total params: 2,138,899\n",
      "Trainable params: 2,138,899\n",
      "Non-trainable params: 0\n",
      "_________________________________________________________________\n"
     ]
    }
   ],
   "source": [
    "import keras\n",
    "from keras.layers import LSTM, Dense, Embedding, Dropout\n",
    "from keras.models import Sequential\n",
    "from keras.callbacks import ModelCheckpoint\n",
    "\n",
    "model = Sequential()\n",
    "model.add(Embedding(vocab_size+1, 32, input_length = trainX.shape[1]))\n",
    "model.add(LSTM(200,  return_sequences=True))\n",
    "model.add(Dropout(0.2))\n",
    "model.add(LSTM(200))\n",
    "model.add(Dense(trainy.shape[1], activation = 'softmax'))\n",
    "\n",
    "\n",
    "\n",
    "model.summary()"
   ]
  },
  {
   "cell_type": "code",
   "execution_count": 68,
   "metadata": {},
   "outputs": [
    {
     "name": "stdout",
     "output_type": "stream",
     "text": [
      "Train on 15984 samples, validate on 3996 samples\n",
      "Epoch 1/20\n",
      "15984/15984 [==============================] - 113s 7ms/step - loss: 6.7358 - acc: 0.2047 - val_loss: 6.6360 - val_acc: 0.2060\n",
      "\n",
      "Epoch 00001: loss improved from inf to 6.73580, saving model to ./weights.hdf5\n",
      "Epoch 2/20\n",
      "15984/15984 [==============================] - 148s 9ms/step - loss: 6.0472 - acc: 0.2065 - val_loss: 6.7152 - val_acc: 0.2060\n",
      "\n",
      "Epoch 00002: loss improved from 6.73580 to 6.04723, saving model to ./weights.hdf5\n",
      "Epoch 3/20\n",
      "15984/15984 [==============================] - 186s 12ms/step - loss: 5.9915 - acc: 0.2065 - val_loss: 6.7796 - val_acc: 0.2060\n",
      "\n",
      "Epoch 00003: loss improved from 6.04723 to 5.99146, saving model to ./weights.hdf5\n",
      "Epoch 4/20\n",
      "15984/15984 [==============================] - 125s 8ms/step - loss: 5.6290 - acc: 0.2203 - val_loss: 6.2873 - val_acc: 0.2475\n",
      "\n",
      "Epoch 00004: loss improved from 5.99146 to 5.62897, saving model to ./weights.hdf5\n",
      "Epoch 5/20\n",
      "15984/15984 [==============================] - 119s 7ms/step - loss: 5.4036 - acc: 0.2397 - val_loss: 6.2793 - val_acc: 0.2490\n",
      "\n",
      "Epoch 00005: loss improved from 5.62897 to 5.40364, saving model to ./weights.hdf5\n",
      "Epoch 6/20\n",
      "15984/15984 [==============================] - 118s 7ms/step - loss: 5.2860 - acc: 0.2457 - val_loss: 6.4722 - val_acc: 0.2505\n",
      "\n",
      "Epoch 00006: loss improved from 5.40364 to 5.28604, saving model to ./weights.hdf5\n",
      "Epoch 7/20\n",
      "15984/15984 [==============================] - 125s 8ms/step - loss: 5.1950 - acc: 0.2524 - val_loss: 6.5071 - val_acc: 0.2563\n",
      "\n",
      "Epoch 00007: loss improved from 5.28604 to 5.19503, saving model to ./weights.hdf5\n",
      "Epoch 8/20\n",
      "15984/15984 [==============================] - 133s 8ms/step - loss: 5.1248 - acc: 0.2558 - val_loss: 6.5770 - val_acc: 0.2565\n",
      "\n",
      "Epoch 00008: loss improved from 5.19503 to 5.12484, saving model to ./weights.hdf5\n",
      "Epoch 9/20\n",
      "15984/15984 [==============================] - 150s 9ms/step - loss: 5.0567 - acc: 0.2589 - val_loss: 6.6123 - val_acc: 0.2563\n",
      "\n",
      "Epoch 00009: loss improved from 5.12484 to 5.05674, saving model to ./weights.hdf5\n",
      "Epoch 10/20\n",
      "15984/15984 [==============================] - 142s 9ms/step - loss: 4.9867 - acc: 0.2613 - val_loss: 6.6880 - val_acc: 0.2565\n",
      "\n",
      "Epoch 00010: loss improved from 5.05674 to 4.98670, saving model to ./weights.hdf5\n",
      "Epoch 11/20\n",
      "15984/15984 [==============================] - 118s 7ms/step - loss: 4.9230 - acc: 0.2630 - val_loss: 6.7098 - val_acc: 0.2442\n",
      "\n",
      "Epoch 00011: loss improved from 4.98670 to 4.92304, saving model to ./weights.hdf5\n",
      "Epoch 12/20\n",
      "15984/15984 [==============================] - 108s 7ms/step - loss: 4.8567 - acc: 0.2648 - val_loss: 6.8229 - val_acc: 0.2472\n",
      "\n",
      "Epoch 00012: loss improved from 4.92304 to 4.85668, saving model to ./weights.hdf5\n",
      "Epoch 13/20\n",
      "15984/15984 [==============================] - 140s 9ms/step - loss: 4.7922 - acc: 0.2688 - val_loss: 6.8147 - val_acc: 0.2525\n",
      "\n",
      "Epoch 00013: loss improved from 4.85668 to 4.79220, saving model to ./weights.hdf5\n",
      "Epoch 14/20\n",
      "15984/15984 [==============================] - 183s 11ms/step - loss: 4.7370 - acc: 0.2688 - val_loss: 6.9442 - val_acc: 0.2540\n",
      "\n",
      "Epoch 00014: loss improved from 4.79220 to 4.73701, saving model to ./weights.hdf5\n",
      "Epoch 15/20\n",
      "15984/15984 [==============================] - 136s 8ms/step - loss: 4.6748 - acc: 0.2700 - val_loss: 6.9446 - val_acc: 0.2518\n",
      "\n",
      "Epoch 00015: loss improved from 4.73701 to 4.67484, saving model to ./weights.hdf5\n",
      "Epoch 16/20\n",
      "15984/15984 [==============================] - 136s 9ms/step - loss: 4.6145 - acc: 0.2711 - val_loss: 7.0112 - val_acc: 0.2503\n",
      "\n",
      "Epoch 00016: loss improved from 4.67484 to 4.61452, saving model to ./weights.hdf5\n",
      "Epoch 17/20\n",
      "15984/15984 [==============================] - 182s 11ms/step - loss: 4.5563 - acc: 0.2742 - val_loss: 7.1136 - val_acc: 0.2513\n",
      "\n",
      "Epoch 00017: loss improved from 4.61452 to 4.55625, saving model to ./weights.hdf5\n",
      "Epoch 18/20\n",
      "15984/15984 [==============================] - 143s 9ms/step - loss: 4.4988 - acc: 0.2758 - val_loss: 7.0574 - val_acc: 0.2525\n",
      "\n",
      "Epoch 00018: loss improved from 4.55625 to 4.49880, saving model to ./weights.hdf5\n",
      "Epoch 19/20\n",
      "15984/15984 [==============================] - 120s 8ms/step - loss: 4.4401 - acc: 0.2771 - val_loss: 7.1793 - val_acc: 0.2500\n",
      "\n",
      "Epoch 00019: loss improved from 4.49880 to 4.44012, saving model to ./weights.hdf5\n",
      "Epoch 20/20\n",
      "15984/15984 [==============================] - 135s 8ms/step - loss: 4.3796 - acc: 0.2802 - val_loss: 7.1916 - val_acc: 0.2437\n",
      "\n",
      "Epoch 00020: loss improved from 4.44012 to 4.37958, saving model to ./weights.hdf5\n"
     ]
    }
   ],
   "source": [
    "model.compile(optimizer = 'adam', loss = 'categorical_crossentropy', metrics = ['acc'])\n",
    "\n",
    "filepath = \"./weights.hdf5\"\n",
    "checkpoint = ModelCheckpoint(filepath, monitor = 'loss', verbose = 1, save_best_only = True, mode = 'min')\n",
    "callbacks = [checkpoint]\n",
    "\n",
    "hist = model.fit(trainX, trainy, epochs = 20, batch_size = 128, verbose = 1, callbacks = callbacks, validation_split=0.2)"
   ]
  },
  {
   "cell_type": "code",
   "execution_count": 69,
   "metadata": {},
   "outputs": [
    {
     "data": {
      "image/png": "[encoded data removed]",
      "text/plain": [
       "<Figure size 432x288 with 1 Axes>"
      ]
     },
     "metadata": {
      "needs_background": "light"
     },
     "output_type": "display_data"
    }
   ],
   "source": [
    "# Plotting loss\n",
    "\n",
    "plt.plot(hist.history['loss'])\n",
    "plt.title('Model train loss')\n",
    "plt.ylabel('Loss')\n",
    "plt.xlabel('Epoch')\n",
    "plt.legend(['Train', 'Validation'], loc='upper right')\n",
    "plt.show()"
   ]
  },
  {
   "cell_type": "code",
   "execution_count": 52,
   "metadata": {
    "scrolled": true
   },
   "outputs": [
    {
     "data": {
      "image/png": "[encoded data removed]",
      "text/plain": [
       "<Figure size 432x288 with 1 Axes>"
      ]
     },
     "metadata": {
      "needs_background": "light"
     },
     "output_type": "display_data"
    }
   ],
   "source": [
    "# Plotting accuracy\n",
    "\n",
    "plt.plot(hist.history[\"acc\"])\n",
    "plt.title('Model accuracy: ')\n",
    "plt.legend(['Train', 'Validation'], loc='upper right')\n",
    "plt.ylabel(\"accuracy\")\n",
    "plt.xlabel(\"epoch\")\n",
    "plt.show()"
   ]
  },
  {
   "cell_type": "code",
   "execution_count": 70,
   "metadata": {},
   "outputs": [
    {
     "name": "stdout",
     "output_type": "stream",
     "text": [
      "19980/19980 [==============================] - 54s 3ms/step\n",
      "Train loss: 4.83\n",
      "Train accuracy: 27.80 %\n"
     ]
    }
   ],
   "source": [
    "results = model.evaluate(trainX, trainy, batch_size = 128)\n",
    "print('Train loss: %.2f'% results[0])\n",
    "print('Train accuracy: %.2f'%(results[1]*100), \"%\")"
   ]
  },
  {
   "cell_type": "code",
   "execution_count": 71,
   "metadata": {},
   "outputs": [],
   "source": [
    "# Loading weights from a checkpoint\n",
    "\n",
    "filename = \"20e200n.hdf5\"\n",
    "model.load_weights(filename)\n",
    "model.compile(loss = 'categorical_crossentropy', optimizer = 'adam')\n"
   ]
  },
  {
   "cell_type": "code",
   "execution_count": 72,
   "metadata": {},
   "outputs": [],
   "source": [
    "def generate_words(seed_text, num_words, model, max_seq_len = 20):\n",
    "    for i in range(num_words):\n",
    "        token_list = tokenizer.texts_to_sequences([seed_text])[0]\n",
    "        token_list = pad_sequences([token_list], maxlen = max_seq_len, padding = 'pre')\n",
    "        \n",
    "        predicted = model.predict_classes(token_list, verbose = 0)\n",
    "        output_word = ''\n",
    "        for word, index in tokenizer.word_index.items():\n",
    "            if index == predicted:\n",
    "                output_word = word\n",
    "                break\n",
    "                \n",
    "        seed_text = seed_text + \" \" + output_word\n",
    "        \n",
    "    return seed_text.title()"
   ]
  },
  {
   "cell_type": "code",
   "execution_count": 57,
   "metadata": {},
   "outputs": [
    {
     "name": "stdout",
     "output_type": "stream",
     "text": [
      "The Movie And Everyone But Is Kidnapped To Be A Young Woman Who Is An Matador And Uses His Contented Hack Benet Breaks A Merry Strife That He Has Been Forced To Be Changed By Ghostface In The Family But Been Slaughtered By His Straight Priest Who Is An Dominates Who Is\n"
     ]
    }
   ],
   "source": [
    "print(generate_words(\"The movie\", 50, model))"
   ]
  },
  {
   "cell_type": "code",
   "execution_count": null,
   "metadata": {},
   "outputs": [],
   "source": []
  }
 ],
 "metadata": {
  "kernelspec": {
   "display_name": "Python 3",
   "language": "python",
   "name": "python3"
  },
  "language_info": {
   "codemirror_mode": {
    "name": "ipython",
    "version": 3
   },
   "file_extension": ".py",
   "mimetype": "text/x-python",
   "name": "python",
   "nbconvert_exporter": "python",
   "pygments_lexer": "ipython3",
   "version": "3.6.9"
  }
 },
 "nbformat": 4,
 "nbformat_minor": 4
}
